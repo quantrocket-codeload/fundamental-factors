{
 "cells": [
  {
   "cell_type": "markdown",
   "metadata": {},
   "source": [
    "<a href=\"https://www.quantrocket.com\"><img alt=\"QuantRocket logo\" src=\"https://www.quantrocket.com/assets/img/notebook-header-logo.png\"></a><br>\n",
    "<a href=\"https://www.quantrocket.com/disclaimer/\">Disclaimer</a>"
   ]
  },
  {
   "attachments": {},
   "cell_type": "markdown",
   "metadata": {},
   "source": [
    "***\n",
    "[Fundamental Factors](Introduction.ipynb) › Lesson 8: Factor Values vs Factor Ranks\n",
    "***"
   ]
  },
  {
   "attachments": {},
   "cell_type": "markdown",
   "metadata": {},
   "source": [
    "# Factor Values vs Factor Ranks\n",
    "\n",
    "When using a factor in Pipeline, one choice you must make is whether use the raw factor values or whether to rank the values and use the ranks as your factor. Before explaining why you might choose one or the other, let's see how to rank a factor in Pipeline. \n",
    "\n",
    "In the following example, we look at the debt-to-equity ratio, which is the ratio of a company's total liabilities to its shareholder equity. The D/E ratio is a measure of a company's finanical leverage, indicating the degree to which a company's operations are funded by debt. Ranking by D/E ratio in Pipeline is a simple matter of using the `rank()` method. However, note the use of `where()` to mask the D/E ratio with our base universe before calling `rank()`. We do this to avoid including securities that aren't part of our universe in the ranks. (Equivalently, we could have passed our universe as the `mask` argument to `rank()`.)"
   ]
  },
  {
   "cell_type": "code",
   "execution_count": 1,
   "metadata": {
    "tags": []
   },
   "outputs": [],
   "source": [
    "from zipline.pipeline import sharadar, Pipeline\n",
    "from codeload.fundamental_factors.universe import CommonStocks, BaseUniverse\n",
    "\n",
    "universe = BaseUniverse()\n",
    "\n",
    "fundamentals = sharadar.Fundamentals.slice('ART')\n",
    "\n",
    "de = fundamentals.DE.latest\n",
    "\n",
    "# Mask d/e with the base universe, before using rank() below \n",
    "de = de.where(universe)\n",
    "\n",
    "pipeline = Pipeline(\n",
    "    columns={\n",
    "        'de': de,\n",
    "        'de_rank': de.rank(),\n",
    "    },\n",
    "    initial_universe=CommonStocks(),\n",
    "    screen=universe\n",
    ")"
   ]
  },
  {
   "cell_type": "markdown",
   "metadata": {},
   "source": [
    "Is it better to use factor ranks or factor values? It depends on what you plan to do with your pipeline output. \n",
    "\n",
    "There are times when you care about the actual factor values, perhaps because you want to examine their distribution or because you want to bin the values using cutoffs that are meaningful for the specific factor. In those cases, ranking may not be helpful. For example, if you wanted to classify D/E ratios below 1 as \"safe\", D/E ratios between 1 and 2 as \"borderline\", and D/E ratios above 2 as \"risky\", you would need the actual factor values, not the ranks.  \n",
    "\n",
    "An example where ranking can be helpful is when looking at the long-short, factor-weighted cumulative returns plot in Alphalens. \"Factor-weighted\" means that the asset weights are proportional to the factor value. This makes the plot sensitive to outliers, as assets with extreme positive or negative values will have extreme positive or negative weights. This situation is exactly what occurred in the previous notebook, causing the factor-weighted cumulative returns plot to show extreme up and down moves. Using factor ranks instead of factor values can mitigate this problem. The outliers will still have larger weights, but much more moderately so, since the weights will be proportional to the ranks (which are linear), rather than to the values on which the ranks are based.\n",
    "\n",
    "To illustrate the different weighting that can occur from using factor values vs factor ranks, let's create a two-column pipeline that computes weights based on the D/E ratio and the D/E ratio rank: "
   ]
  },
  {
   "cell_type": "code",
   "execution_count": 2,
   "metadata": {
    "tags": []
   },
   "outputs": [],
   "source": [
    "pipeline = Pipeline(\n",
    "    columns={\n",
    "        'factor_weighted': de / de.sum(),\n",
    "        'rank_weighted': de.rank() / de.rank().sum()\n",
    "    },\n",
    "    initial_universe=CommonStocks(),\n",
    "    screen=universe\n",
    ")"
   ]
  },
  {
   "cell_type": "markdown",
   "metadata": {},
   "source": [
    "If we run this pipeline and plot the maximum weight in each column, we see that weighting on raw factors can result in much more concentrated portfolios than weighting on ranks:"
   ]
  },
  {
   "cell_type": "code",
   "execution_count": 3,
   "metadata": {
    "tags": []
   },
   "outputs": [
    {
     "data": {
      "image/png": "[encoded data removed]",
      "text/plain": [
       "<Figure size 1152x432 with 1 Axes>"
      ]
     },
     "metadata": {},
     "output_type": "display_data"
    }
   ],
   "source": [
    "from zipline.research import run_pipeline\n",
    "\n",
    "results = run_pipeline(pipeline, '2022-12-30', '2022-12-30')\n",
    "\n",
    "results.max().plot(kind=\"barh\", title=\"Maximum weights\");"
   ]
  },
  {
   "cell_type": "markdown",
   "metadata": {},
   "source": [
    "## Don't confuse yourself\n",
    "\n",
    "You can rank values in ascending order (the default) or in descending order (`rank(ascending=False)`). Whichever you choose, it's worth making a mental note of where \"good\" and \"bad\" values will end up in the ranked results, as it's easy to get confused. For some metrics, like D/E ratio, small numbers are \"good\" and large numbers are \"bad,\" while for other metrics, like return on equity, small numbers are \"bad\" and large numbers are \"good.\" Ranking in ascending order puts the small numbers first (ranks 1, 2, 3, etc.), while ranking in descending order puts the large numbers first. To avoid confusion, you may find it helpful to consistently choose the ranking order that will put the \"good\" numbers first."
   ]
  },
  {
   "cell_type": "markdown",
   "metadata": {},
   "source": [
    "***\n",
    "\n",
    "## *Next Up*\n",
    "\n",
    "Lesson 9: [Sector Neutralization](Lesson09-Sector-Neutralization.ipynb)"
   ]
  }
 ],
 "metadata": {
  "kernelspec": {
   "display_name": "Python 3.9",
   "language": "python",
   "name": "python3"
  },
  "language_info": {
   "codemirror_mode": {
    "name": "ipython",
    "version": 3
   },
   "file_extension": ".py",
   "mimetype": "text/x-python",
   "name": "python",
   "nbconvert_exporter": "python",
   "pygments_lexer": "ipython3",
   "version": "3.9.7"
  }
 },
 "nbformat": 4,
 "nbformat_minor": 4
}
