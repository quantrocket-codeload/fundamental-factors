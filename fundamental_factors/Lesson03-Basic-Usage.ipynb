{
 "cells": [
  {
   "cell_type": "markdown",
   "metadata": {},
   "source": [
    "<a href=\"https://www.quantrocket.com\"><img alt=\"QuantRocket logo\" src=\"https://www.quantrocket.com/assets/img/notebook-header-logo.png\"></a><br>\n",
    "<a href=\"https://www.quantrocket.com/disclaimer/\">Disclaimer</a>"
   ]
  },
  {
   "attachments": {},
   "cell_type": "markdown",
   "metadata": {},
   "source": [
    "***\n",
    "[Fundamental Factors](Introduction.ipynb) › Lesson 3: Basic Usage\n",
    "***"
   ]
  },
  {
   "attachments": {},
   "cell_type": "markdown",
   "metadata": {},
   "source": [
    "# Basic Usage\n"
   ]
  },
  {
   "cell_type": "markdown",
   "metadata": {
    "tags": []
   },
   "source": [
    "## Choosing a dimension\n",
    "\n",
    "The first step when using Sharadar fundamentals is to decide which \"dimension\" you want to use. There are 6 possible dimensions, resulting from the combination of 3 possible reporting windows and 2 ways of handling restatements. The 3 reporting windows are:\n",
    "\n",
    "* Q = Quarterly: metrics reflect financial results for the fiscal quarter\n",
    "* Y = Annual: metrics reflect financial results for the fiscal year\n",
    "* T = Trailing-Twelve Month: metrics reflect financial results for the trailing twelve months (previous 4 quarters)\n",
    "\n",
    "The 2 ways of handling restatements are:\n",
    "\n",
    "* AR = As-Reported: metrics reflect the values as originally reported by the company\n",
    "* MR = Most Recently Reported: metrics reflect the most recently reported values\n",
    "\n",
    "For historical research, most quants prefer to use As-Reported data, because it most accurately represents what would have originally been known at the time of trade.\n",
    "\n",
    "Thus the 6 possible dimensions are:\n",
    "\n",
    "* ARQ = As-Reported Quarterly\n",
    "* ARY = As-Reported Annual\n",
    "* ART = As-Reported Trailing-Twelve Month\n",
    "* MRQ = Most Recently Reported Quarterly\n",
    "* MRY = Most Recently Reported Annual\n",
    "* MRT = Most Recently Reported Trailing-Twelve Month\n",
    "\n",
    "In this notebook, we will use as-reported, trailing-twelve-month fundamentals. To do so, we use the `slice()` method of `zipline.pipeline.sharadar.Fundamentals` to select the desired dimension. `Fundamentals` is a `DataSetFamily`, and calling its `slice()` method returns a `DataSet`:"
   ]
  },
  {
   "cell_type": "code",
   "execution_count": 1,
   "metadata": {
    "tags": []
   },
   "outputs": [],
   "source": [
    "from zipline.pipeline import sharadar\n",
    "\n",
    "fundamentals = sharadar.Fundamentals.slice('ART')"
   ]
  },
  {
   "cell_type": "markdown",
   "metadata": {},
   "source": [
    "## Using Columns as Factors\n",
    "\n",
    "Many fundamental factors are directly available as columns in the Sharadar dataset. A list of available factors can be found in the docstring for `Fundamentals`, which can be viewed by clicking on `Fundamentals` in the above cell in JupyterLab and pressing `Ctrl`. Once you have identified a factor of interest, you can use it in Pipeline by accessing its `latest` property. \n",
    "\n",
    "If we want to look at profitability, one metric we could use is net margin, defined as the ratio of net income to revenue:"
   ]
  },
  {
   "cell_type": "code",
   "execution_count": 2,
   "metadata": {
    "tags": []
   },
   "outputs": [],
   "source": [
    "net_margin = fundamentals.NETMARGIN.latest"
   ]
  },
  {
   "cell_type": "markdown",
   "metadata": {},
   "source": [
    "## Deriving Factors from Multiple Columns\n",
    "\n",
    "Sometimes, a fundamental metric may not be directly available in the dataset, but you can derive the metric by combining other metrics. For example, operating margin, defined as the ratio of operating income to revenue, is not included in the dataset. But you can derive the metric like this:"
   ]
  },
  {
   "cell_type": "code",
   "execution_count": 3,
   "metadata": {
    "tags": []
   },
   "outputs": [],
   "source": [
    "operating_margin = fundamentals.OPINC.latest / fundamentals.REVENUE.latest "
   ]
  },
  {
   "cell_type": "markdown",
   "metadata": {},
   "source": [
    "***\n",
    "\n",
    "## *Next Up*\n",
    "\n",
    "Lesson 4: [Periodic Computations](Lesson04-Periodic-Computations.ipynb)"
   ]
  }
 ],
 "metadata": {
  "kernelspec": {
   "display_name": "Python 3.11",
   "language": "python",
   "name": "python3"
  },
  "language_info": {
   "codemirror_mode": {
    "name": "ipython",
    "version": 3
   },
   "file_extension": ".py",
   "mimetype": "text/x-python",
   "name": "python",
   "nbconvert_exporter": "python",
   "pygments_lexer": "ipython3",
   "version": "3.11.0"
  }
 },
 "nbformat": 4,
 "nbformat_minor": 4
}
