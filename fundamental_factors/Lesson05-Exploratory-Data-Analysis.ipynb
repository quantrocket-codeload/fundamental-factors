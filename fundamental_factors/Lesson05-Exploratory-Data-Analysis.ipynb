{
 "cells": [
  {
   "cell_type": "markdown",
   "metadata": {},
   "source": [
    "<a href=\"https://www.quantrocket.com\"><img alt=\"QuantRocket logo\" src=\"https://www.quantrocket.com/assets/img/notebook-header-logo.png\"></a><br>\n",
    "<a href=\"https://www.quantrocket.com/disclaimer/\">Disclaimer</a>"
   ]
  },
  {
   "attachments": {},
   "cell_type": "markdown",
   "metadata": {},
   "source": [
    "***\n",
    "[Fundamental Factors](Introduction.ipynb) › Lesson 5: Exploratory Data Analysis\n",
    "***"
   ]
  },
  {
   "attachments": {},
   "cell_type": "markdown",
   "metadata": {},
   "source": [
    "# Exploratory Data Analysis\n",
    "\n",
    "Pipeline output can be fed into a Zipline strategy or analyzed with Alphalens. However, a useful first step in most cases is to explore the data to get a basic sense of the data's distribution and characteristics. This can often highlight ways that you must massage the data or tweak your computations to achieve the desired results. This process is referred to as Exploratory Data Analysis (EDA).\n"
   ]
  },
  {
   "cell_type": "markdown",
   "metadata": {},
   "source": [
    "## Exploring the Profitability Factor\n",
    "\n",
    "In an earlier lesson, we defined a factor for operating margin, defined as operating income divided by revenue. Operating margin is a measure of profitability. If a company has an operating margin of 10% (0.1), this means that for every dollar of revenue, the company earns 10 cents in operating income.\n",
    "\n",
    "> Although these lessons will refer to operating margin as the profitability factor, note that operating margin is a different profitability measure than the [Fama-French profitability factor](https://papers.ssrn.com/sol3/papers.cfm?abstract_id=2287202). The main differences are that the Fama-French version subtracts interest from revenue while operating margin does not, and the Fama-French version divides the numerator by book equity while operating margin divides by revenue. The choice of operating margin in these lessons is pedagogical and does not constitute an endorsement of one formula over the other. The Fama-French profitability factor can be computed with the following Sharadar fields: `(REVENUE - COR - INTEXP - SGNA) / EQUITY`\n",
    "\n",
    "\n",
    "Suppose we wanted to use Alphalens to assess the suitability of including operating margin in a long-short or long-only strategy. What might our exploratory data analysis look like? \n",
    "\n",
    "Let's begin by creating a pipeline with this factor, importing our universe filters from lesson 2: "
   ]
  },
  {
   "cell_type": "code",
   "execution_count": 1,
   "metadata": {
    "tags": []
   },
   "outputs": [],
   "source": [
    "from zipline.pipeline import Pipeline, sharadar\n",
    "from codeload.fundamental_factors.universe import CommonStocks, BaseUniverse\n",
    "\n",
    "fundamentals = sharadar.Fundamentals.slice('ART')\n",
    "\n",
    "operating_margin = fundamentals.OPINC.latest / fundamentals.REVENUE.latest \n",
    "\n",
    "pipeline = Pipeline(\n",
    "    columns={\n",
    "        'operating_margin': operating_margin,\n",
    "    },\n",
    "    initial_universe=CommonStocks(),\n",
    "    screen=BaseUniverse()\n",
    ")"
   ]
  },
  {
   "cell_type": "markdown",
   "metadata": {},
   "source": [
    "Then, we run the pipeline with a year of data. A year (or even less) is often sufficient for the purpose of exploratory data analysis, since the purpose is simply to get a basic understanding of the data distribution and characteristics. In contrast, longer date ranges are beneficial when analyzing factor performance with Alphalens or Zipline, in order to see how the factor performs over time."
   ]
  },
  {
   "cell_type": "code",
   "execution_count": 2,
   "metadata": {},
   "outputs": [],
   "source": [
    "from zipline.research import run_pipeline\n",
    "\n",
    "results = run_pipeline(pipeline, '2022-01-01', '2022-12-31')"
   ]
  },
  {
   "cell_type": "markdown",
   "metadata": {},
   "source": [
    "## Summarizing the data with pandas' `describe()` method\n",
    "\n",
    "An easy and fail-safe first way to explore the data is using pandas's `describe()` method, which computes summary statistics for each column in the DataFrame. We will visualize the data distribution with a histogram later, but `describe()` is nice because it works for any kind of data and doesn't require us to think in advance about what kind of plot is best suited to the data, a task that can be tricky when we don't yet have a basic understanding of the data distribution."
   ]
  },
  {
   "cell_type": "code",
   "execution_count": 3,
   "metadata": {},
   "outputs": [
    {
     "name": "stderr",
     "output_type": "stream",
     "text": [
      "/opt/conda/lib/python3.11/site-packages/numpy/core/_methods.py:49: RuntimeWarning: invalid value encountered in reduce\n",
      "  return umr_sum(a, axis, dtype, out, keepdims, initial, where)\n"
     ]
    },
    {
     "data": {
      "text/html": [
       "<div>\n",
       "<style scoped>\n",
       "    .dataframe tbody tr th:only-of-type {\n",
       "        vertical-align: middle;\n",
       "    }\n",
       "\n",
       "    .dataframe tbody tr th {\n",
       "        vertical-align: top;\n",
       "    }\n",
       "\n",
       "    .dataframe thead th {\n",
       "        text-align: right;\n",
       "    }\n",
       "</style>\n",
       "<table border=\"1\" class=\"dataframe\">\n",
       "  <thead>\n",
       "    <tr style=\"text-align: right;\">\n",
       "      <th></th>\n",
       "      <th>operating_margin</th>\n",
       "    </tr>\n",
       "  </thead>\n",
       "  <tbody>\n",
       "    <tr>\n",
       "      <th>count</th>\n",
       "      <td>1.033654e+06</td>\n",
       "    </tr>\n",
       "    <tr>\n",
       "      <th>mean</th>\n",
       "      <td>NaN</td>\n",
       "    </tr>\n",
       "    <tr>\n",
       "      <th>std</th>\n",
       "      <td>NaN</td>\n",
       "    </tr>\n",
       "    <tr>\n",
       "      <th>min</th>\n",
       "      <td>-inf</td>\n",
       "    </tr>\n",
       "    <tr>\n",
       "      <th>25%</th>\n",
       "      <td>-2.414564e-01</td>\n",
       "    </tr>\n",
       "    <tr>\n",
       "      <th>50%</th>\n",
       "      <td>6.528241e-02</td>\n",
       "    </tr>\n",
       "    <tr>\n",
       "      <th>75%</th>\n",
       "      <td>2.049988e-01</td>\n",
       "    </tr>\n",
       "    <tr>\n",
       "      <th>max</th>\n",
       "      <td>inf</td>\n",
       "    </tr>\n",
       "  </tbody>\n",
       "</table>\n",
       "</div>"
      ],
      "text/plain": [
       "       operating_margin\n",
       "count      1.033654e+06\n",
       "mean                NaN\n",
       "std                 NaN\n",
       "min                -inf\n",
       "25%       -2.414564e-01\n",
       "50%        6.528241e-02\n",
       "75%        2.049988e-01\n",
       "max                 inf"
      ]
     },
     "execution_count": 3,
     "metadata": {},
     "output_type": "execute_result"
    }
   ],
   "source": [
    "results.describe()"
   ]
  },
  {
   "cell_type": "markdown",
   "metadata": {},
   "source": [
    "We immediately notice the `NaN` and `inf` values in the `describe()` output. What's going on here? This is happening because we are dividing operating income by revenue, and revenue can be 0. Dividing by zero causes numpy to compute +/-infinity for max and min, and the `inf` values cause the `NaN` values for mean and std. A quick check of `describe()` has highlighted a problem that we should correct before going any further. \n",
    "\n",
    "A simple solution is to use the Factor `where()` method to ignore observations where revenue is 0. The `where()` method takes a Filter (Pipeline's version of a boolean condition) as its first argument, and returns a new Factor with only those values where the Filter is True. A replacement value can be passed as an optional second argument, but if this is omitted, as we do below, the Factor will be masked with `NaN` values where the Filter is False. These `NaN`s will then be ignored in subsequent analyses.\n",
    "\n",
    "We re-write the operating margin factor to ignore observations with no revenue as follows:"
   ]
  },
  {
   "cell_type": "code",
   "execution_count": 4,
   "metadata": {
    "tags": [],
    "vscode": {
     "languageId": "python"
    }
   },
   "outputs": [],
   "source": [
    "revenue = fundamentals.REVENUE.latest\n",
    "operating_margin = fundamentals.OPINC.latest / revenue.where(revenue > 0) \n",
    "\n",
    "pipeline = Pipeline(\n",
    "    columns={\n",
    "        'operating_margin': operating_margin,\n",
    "    },\n",
    "    initial_universe=CommonStocks(),\n",
    "    screen=BaseUniverse()\n",
    ")"
   ]
  },
  {
   "cell_type": "markdown",
   "metadata": {},
   "source": [
    "Re-running the pipeline and `describe()` method, we see that the `NaN` and `inf` values are gone:"
   ]
  },
  {
   "cell_type": "code",
   "execution_count": 5,
   "metadata": {
    "tags": [],
    "vscode": {
     "languageId": "python"
    }
   },
   "outputs": [
    {
     "data": {
      "text/html": [
       "<div>\n",
       "<style scoped>\n",
       "    .dataframe tbody tr th:only-of-type {\n",
       "        vertical-align: middle;\n",
       "    }\n",
       "\n",
       "    .dataframe tbody tr th {\n",
       "        vertical-align: top;\n",
       "    }\n",
       "\n",
       "    .dataframe thead th {\n",
       "        text-align: right;\n",
       "    }\n",
       "</style>\n",
       "<table border=\"1\" class=\"dataframe\">\n",
       "  <thead>\n",
       "    <tr style=\"text-align: right;\">\n",
       "      <th></th>\n",
       "      <th>operating_margin</th>\n",
       "    </tr>\n",
       "  </thead>\n",
       "  <tbody>\n",
       "    <tr>\n",
       "      <th>count</th>\n",
       "      <td>945562.000000</td>\n",
       "    </tr>\n",
       "    <tr>\n",
       "      <th>mean</th>\n",
       "      <td>-40.700615</td>\n",
       "    </tr>\n",
       "    <tr>\n",
       "      <th>std</th>\n",
       "      <td>4985.586530</td>\n",
       "    </tr>\n",
       "    <tr>\n",
       "      <th>min</th>\n",
       "      <td>-841260.400000</td>\n",
       "    </tr>\n",
       "    <tr>\n",
       "      <th>25%</th>\n",
       "      <td>-0.067687</td>\n",
       "    </tr>\n",
       "    <tr>\n",
       "      <th>50%</th>\n",
       "      <td>0.081445</td>\n",
       "    </tr>\n",
       "    <tr>\n",
       "      <th>75%</th>\n",
       "      <td>0.222025</td>\n",
       "    </tr>\n",
       "    <tr>\n",
       "      <th>max</th>\n",
       "      <td>7.001749</td>\n",
       "    </tr>\n",
       "  </tbody>\n",
       "</table>\n",
       "</div>"
      ],
      "text/plain": [
       "       operating_margin\n",
       "count     945562.000000\n",
       "mean         -40.700615\n",
       "std         4985.586530\n",
       "min      -841260.400000\n",
       "25%           -0.067687\n",
       "50%            0.081445\n",
       "75%            0.222025\n",
       "max            7.001749"
      ]
     },
     "execution_count": 5,
     "metadata": {},
     "output_type": "execute_result"
    }
   ],
   "source": [
    "results = run_pipeline(pipeline, '2022-01-01', '2022-12-31')\n",
    "results.describe()"
   ]
  },
  {
   "cell_type": "markdown",
   "metadata": {},
   "source": [
    "What else can we learn from `describe()`? Simplistically, we can think of profit margin as the amount of revenue left over after paying expenses. A company with no revenue left over after expenses would have a profit margin of 0, while a company with no expenses would have a profit margin of 1. But `describe()` reminds us that operating margin is not bounded by 0 and 1. First of all, operating income can be negative, so operating margin can also be negative: a company can spend arbitrarily more than it brings in as revenue. This isn't surprising or unintuitive but it is a useful reminder that our universe currently doesn't just include profitable companies with wider or narrower profit margins but also unprofitable companies that are losing varying amounts of money. Depending on our goals, we may want to include those unprofitable companies in our analysis or exclude them.  \n",
    "\n",
    "A second revelation of `describe()` is more puzzling: operating margin can be greater than 1. This violates the intuitive understanding of profit margin as the amount of revenue left over after paying expenses. How can there be more than 100% of revenue left over after paying expenses? \n",
    "\n",
    "To see what's going on, we should look at some specific examples. We'll re-run the pipeline, but this time we'll screen for stocks with operating margin greater than 1, and we will include in the output all of the relevant columns that form the basis of operating margin, to help us see where the unexpected result is coming from. To know what columns are relevant, you can start by adding `REVENUE` and `OPINC`, which are the basis of operating margin, then clicking on them in JupyterLab and pressing CTRL to view their definitions, which will show you the names of any underlying columns from which they're derived. `REVENUE` comes directly from the income statement, while `OPINC` is derived from `GP` (gross profit) and `OPEX` (operating expenses). `GP`, in turn, depends on `COR` (cost of revenue).\n",
    "\n",
    "We run a pipeline with these columns and look at a few of the results:"
   ]
  },
  {
   "cell_type": "code",
   "execution_count": 6,
   "metadata": {
    "tags": [],
    "vscode": {
     "languageId": "python"
    }
   },
   "outputs": [
    {
     "data": {
      "text/html": [
       "<div>\n",
       "<style scoped>\n",
       "    .dataframe tbody tr th:only-of-type {\n",
       "        vertical-align: middle;\n",
       "    }\n",
       "\n",
       "    .dataframe tbody tr th {\n",
       "        vertical-align: top;\n",
       "    }\n",
       "\n",
       "    .dataframe thead th {\n",
       "        text-align: right;\n",
       "    }\n",
       "</style>\n",
       "<table border=\"1\" class=\"dataframe\">\n",
       "  <thead>\n",
       "    <tr style=\"text-align: right;\">\n",
       "      <th></th>\n",
       "      <th></th>\n",
       "      <th>operating_margin</th>\n",
       "      <th>revenue</th>\n",
       "      <th>operating_income</th>\n",
       "      <th>gross_profit</th>\n",
       "      <th>cost_of_revenue</th>\n",
       "      <th>operating_expenses</th>\n",
       "    </tr>\n",
       "    <tr>\n",
       "      <th>date</th>\n",
       "      <th>asset</th>\n",
       "      <th></th>\n",
       "      <th></th>\n",
       "      <th></th>\n",
       "      <th></th>\n",
       "      <th></th>\n",
       "      <th></th>\n",
       "    </tr>\n",
       "  </thead>\n",
       "  <tbody>\n",
       "    <tr>\n",
       "      <th>2023-01-03</th>\n",
       "      <th>Equity(FIBBG000D6DM44 [STRS])</th>\n",
       "      <td>7.001749</td>\n",
       "      <td>10866000.0</td>\n",
       "      <td>76081000.0</td>\n",
       "      <td>8507000.0</td>\n",
       "      <td>2359000.0</td>\n",
       "      <td>-67574000.0</td>\n",
       "    </tr>\n",
       "    <tr>\n",
       "      <th>2022-08-29</th>\n",
       "      <th>Equity(FIBBG000D6DM44 [STRS])</th>\n",
       "      <td>4.515059</td>\n",
       "      <td>16369000.0</td>\n",
       "      <td>73907000.0</td>\n",
       "      <td>8058000.0</td>\n",
       "      <td>8311000.0</td>\n",
       "      <td>-65849000.0</td>\n",
       "    </tr>\n",
       "    <tr>\n",
       "      <th>2022-06-03</th>\n",
       "      <th>Equity(FIBBG000D6DM44 [STRS])</th>\n",
       "      <td>3.936445</td>\n",
       "      <td>16820000.0</td>\n",
       "      <td>66211000.0</td>\n",
       "      <td>3317000.0</td>\n",
       "      <td>13503000.0</td>\n",
       "      <td>-62894000.0</td>\n",
       "    </tr>\n",
       "    <tr>\n",
       "      <th>2022-04-01</th>\n",
       "      <th>Equity(FIBBG000D6DM44 [STRS])</th>\n",
       "      <td>2.962884</td>\n",
       "      <td>28236000.0</td>\n",
       "      <td>83660000.0</td>\n",
       "      <td>4024000.0</td>\n",
       "      <td>24212000.0</td>\n",
       "      <td>-79636000.0</td>\n",
       "    </tr>\n",
       "    <tr>\n",
       "      <th>2022-12-19</th>\n",
       "      <th>Equity(FIBBG004HQHKK0 [AMBC])</th>\n",
       "      <td>1.517751</td>\n",
       "      <td>338000000.0</td>\n",
       "      <td>513000000.0</td>\n",
       "      <td>694000000.0</td>\n",
       "      <td>-356000000.0</td>\n",
       "      <td>181000000.0</td>\n",
       "    </tr>\n",
       "  </tbody>\n",
       "</table>\n",
       "</div>"
      ],
      "text/plain": [
       "                                          operating_margin  ...  operating_expenses\n",
       "date       asset                                            ...                    \n",
       "2023-01-03 Equity(FIBBG000D6DM44 [STRS])          7.001749  ...         -67574000.0\n",
       "2022-08-29 Equity(FIBBG000D6DM44 [STRS])          4.515059  ...         -65849000.0\n",
       "2022-06-03 Equity(FIBBG000D6DM44 [STRS])          3.936445  ...         -62894000.0\n",
       "2022-04-01 Equity(FIBBG000D6DM44 [STRS])          2.962884  ...         -79636000.0\n",
       "2022-12-19 Equity(FIBBG004HQHKK0 [AMBC])          1.517751  ...         181000000.0\n",
       "\n",
       "[5 rows x 6 columns]"
      ]
     },
     "execution_count": 6,
     "metadata": {},
     "output_type": "execute_result"
    }
   ],
   "source": [
    "pipeline = Pipeline(\n",
    "    columns={\n",
    "        'operating_margin': operating_margin, # operating_margin = OPINC / REVENUE\n",
    "        'revenue': fundamentals.REVENUE.latest,\n",
    "        'operating_income': fundamentals.OPINC.latest, # OPINC = GP - OPEX\n",
    "        'gross_profit': fundamentals.GP.latest, # GP = REVENUE - COR\n",
    "        'cost_of_revenue': fundamentals.COR.latest,\n",
    "        'operating_expenses': fundamentals.OPEX.latest\n",
    "    },\n",
    "    initial_universe=CommonStocks(),\n",
    "    screen=BaseUniverse() & (operating_margin > 1)\n",
    ")\n",
    "\n",
    "results = run_pipeline(pipeline, '2022-01-01', '2022-12-31')\n",
    "results.sort_values('operating_margin', ascending=False).drop_duplicates().head()"
   ]
  },
  {
   "cell_type": "markdown",
   "metadata": {},
   "source": [
    "In these examples, operating expenses or cost of revenue is negative, which accounts for operating margin being greater than 1. A negative operating expense or cost of revenue is unexpected and may indicate an unusual one-time accounting adjustment made by the company; further investigation (such as viewing the full report on the SEC website) would be required to determine with certainty. Regardless, for the purpose of our profitability analysis, we probably don't want to treat a company with negative operating expenses or negative cost of revenue as though it were extraordinarily profitable. Therefore, we can refine our profitability factor further by excluding these companies."
   ]
  },
  {
   "cell_type": "code",
   "execution_count": 7,
   "metadata": {
    "tags": [],
    "vscode": {
     "languageId": "python"
    }
   },
   "outputs": [],
   "source": [
    "revenue = fundamentals.REVENUE.latest\n",
    "operating_margin = fundamentals.OPINC.latest / revenue.where(revenue > 0) \n",
    "\n",
    "# exclude companies with negative operating expenses or negative cost of revenue\n",
    "opex = fundamentals.OPEX.latest\n",
    "cor = fundamentals.COR.latest\n",
    "operating_margin = operating_margin.where((opex > 0) & (cor > 0))\n",
    "\n",
    "pipeline = Pipeline(\n",
    "    columns={\n",
    "        'operating_margin': operating_margin,\n",
    "    },\n",
    "    initial_universe=CommonStocks(),\n",
    "    screen=BaseUniverse()\n",
    ")"
   ]
  },
  {
   "cell_type": "markdown",
   "metadata": {},
   "source": [
    "Re-running the refined pipeline, the output from `describe()` conforms better to expectations, as the maximum operating margin is now slightly below 1.0:"
   ]
  },
  {
   "cell_type": "code",
   "execution_count": 8,
   "metadata": {
    "tags": [],
    "vscode": {
     "languageId": "python"
    }
   },
   "outputs": [
    {
     "data": {
      "text/html": [
       "<div>\n",
       "<style scoped>\n",
       "    .dataframe tbody tr th:only-of-type {\n",
       "        vertical-align: middle;\n",
       "    }\n",
       "\n",
       "    .dataframe tbody tr th {\n",
       "        vertical-align: top;\n",
       "    }\n",
       "\n",
       "    .dataframe thead th {\n",
       "        text-align: right;\n",
       "    }\n",
       "</style>\n",
       "<table border=\"1\" class=\"dataframe\">\n",
       "  <thead>\n",
       "    <tr style=\"text-align: right;\">\n",
       "      <th></th>\n",
       "      <th>operating_margin</th>\n",
       "    </tr>\n",
       "  </thead>\n",
       "  <tbody>\n",
       "    <tr>\n",
       "      <th>count</th>\n",
       "      <td>778943.000000</td>\n",
       "    </tr>\n",
       "    <tr>\n",
       "      <th>mean</th>\n",
       "      <td>-40.017840</td>\n",
       "    </tr>\n",
       "    <tr>\n",
       "      <th>std</th>\n",
       "      <td>5476.397958</td>\n",
       "    </tr>\n",
       "    <tr>\n",
       "      <th>min</th>\n",
       "      <td>-841260.400000</td>\n",
       "    </tr>\n",
       "    <tr>\n",
       "      <th>25%</th>\n",
       "      <td>-0.065510</td>\n",
       "    </tr>\n",
       "    <tr>\n",
       "      <th>50%</th>\n",
       "      <td>0.067233</td>\n",
       "    </tr>\n",
       "    <tr>\n",
       "      <th>75%</th>\n",
       "      <td>0.165055</td>\n",
       "    </tr>\n",
       "    <tr>\n",
       "      <th>max</th>\n",
       "      <td>0.965168</td>\n",
       "    </tr>\n",
       "  </tbody>\n",
       "</table>\n",
       "</div>"
      ],
      "text/plain": [
       "       operating_margin\n",
       "count     778943.000000\n",
       "mean         -40.017840\n",
       "std         5476.397958\n",
       "min      -841260.400000\n",
       "25%           -0.065510\n",
       "50%            0.067233\n",
       "75%            0.165055\n",
       "max            0.965168"
      ]
     },
     "execution_count": 8,
     "metadata": {},
     "output_type": "execute_result"
    }
   ],
   "source": [
    "results = run_pipeline(pipeline, '2022-01-01', '2022-12-31')\n",
    "results.describe()"
   ]
  },
  {
   "cell_type": "markdown",
   "metadata": {},
   "source": [
    "\n",
    "## Visualizing the data distribution\n",
    "\n",
    "Now that we've refined our factor to exclude unusual cases, let's look at a histogram of operating margin to get a better feel for its distribution. We can use pandas's `plot.hist()` method to do so. However, the plot we get for the data on the first try is not very informative, as all the observations are crammed into a single bin: "
   ]
  },
  {
   "cell_type": "code",
   "execution_count": 9,
   "metadata": {
    "tags": [],
    "vscode": {
     "languageId": "python"
    }
   },
   "outputs": [
    {
     "data": {
      "image/png": "[encoded data removed]",
      "text/plain": [
       "<Figure size 1152x432 with 1 Axes>"
      ]
     },
     "metadata": {},
     "output_type": "display_data"
    }
   ],
   "source": [
    "results.plot.hist();"
   ]
  },
  {
   "cell_type": "markdown",
   "metadata": {},
   "source": [
    "The problem is that negative outliers (companies with extremely negative operating margins) are causing most values to be crammed in a single bin. We can fix this by using the `range` argument to `hist()` to zoom in on the bulk of the distribution. In addition, we'll increase the number of bins to 20, from the default 10."
   ]
  },
  {
   "cell_type": "code",
   "execution_count": 10,
   "metadata": {
    "tags": [],
    "vscode": {
     "languageId": "python"
    }
   },
   "outputs": [
    {
     "data": {
      "image/png": "[encoded data removed]",
      "text/plain": [
       "<Figure size 1152x432 with 1 Axes>"
      ]
     },
     "metadata": {},
     "output_type": "display_data"
    }
   ],
   "source": [
    "results.plot.hist(bins=20, range=(-1, 1));"
   ]
  },
  {
   "cell_type": "markdown",
   "metadata": {},
   "source": [
    "## Clipping Outliers\n",
    "\n",
    "Using `range` to zoom in on the distribution is useful for viewing the histogram, but it doesn't remove the outliers from the pipeline output itself. Before using the pipeline output in Alphalens or Zipline, perhaps it would be a good idea to adjust the pipeline to deal with the outliers. Beyond a certain point, increasingly negative operating margins don't provide useful additional information; it's enough to know that the company is very unprofitable. So, a reasonable solution is to clip the values to -1. This means that any values less than -1 will be replaced with -1. The Factor `clip()` method requires both a lower and upper bound. We'll set the upper bound to 1, knowing that since we already excluded companies with operating margins above 1, the upper bound is redundant. (The lower and upper bound can be set to `-np.inf` and `np.inf`, respectively, to indicate no bound.) "
   ]
  },
  {
   "cell_type": "code",
   "execution_count": 11,
   "metadata": {
    "tags": [],
    "vscode": {
     "languageId": "python"
    }
   },
   "outputs": [],
   "source": [
    "pipeline = Pipeline(\n",
    "    columns={\n",
    "        'operating_margin': operating_margin.clip(min_bound=-1, max_bound=1),\n",
    "    },\n",
    "    initial_universe=CommonStocks(),\n",
    "    screen=BaseUniverse()\n",
    ")"
   ]
  },
  {
   "cell_type": "markdown",
   "metadata": {},
   "source": [
    "If we re-run the pipeline, we can now plot the histogram without using `range`. Notice that, unlike the previous histogram which ignored data outside the (-1, 1) range, in this histogram the clipped values cluster at -1. In other words, the previous histogram included a subset of the data, while this histogram includes all the data. "
   ]
  },
  {
   "cell_type": "code",
   "execution_count": 12,
   "metadata": {
    "tags": [],
    "vscode": {
     "languageId": "python"
    }
   },
   "outputs": [
    {
     "data": {
      "image/png": "[encoded data removed]",
      "text/plain": [
       "<Figure size 1152x432 with 1 Axes>"
      ]
     },
     "metadata": {},
     "output_type": "display_data"
    }
   ],
   "source": [
    "results = run_pipeline(pipeline, '2022-01-01', '2022-12-31')\n",
    "results.plot.hist(bins=20);"
   ]
  },
  {
   "cell_type": "markdown",
   "metadata": {},
   "source": [
    "An alternative to using `clip()` would be to use `winsorize()`. The difference is that `winsorize()` trims values above and below a certain percentile in the distribution, while `clip()` trims values above and below specific fixed values. "
   ]
  },
  {
   "cell_type": "markdown",
   "metadata": {},
   "source": [
    "***\n",
    "\n",
    "## *Next Up*\n",
    "\n",
    "Lesson 6: [Alphalens: Profitability](Lesson06-Profitability.ipynb)"
   ]
  }
 ],
 "metadata": {
  "kernelspec": {
   "display_name": "Python 3.11",
   "language": "python",
   "name": "python3"
  },
  "language_info": {
   "codemirror_mode": {
    "name": "ipython",
    "version": 3
   },
   "file_extension": ".py",
   "mimetype": "text/x-python",
   "name": "python",
   "nbconvert_exporter": "python",
   "pygments_lexer": "ipython3",
   "version": "3.11.0"
  }
 },
 "nbformat": 4,
 "nbformat_minor": 4
}
