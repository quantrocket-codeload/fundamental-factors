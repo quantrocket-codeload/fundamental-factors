{
 "cells": [
  {
   "cell_type": "markdown",
   "metadata": {},
   "source": [
    "<a href=\"https://www.quantrocket.com\"><img alt=\"QuantRocket logo\" src=\"https://www.quantrocket.com/assets/img/notebook-header-logo.png\"></a><br>\n",
    "<a href=\"https://www.quantrocket.com/disclaimer/\">Disclaimer</a>"
   ]
  },
  {
   "attachments": {},
   "cell_type": "markdown",
   "metadata": {},
   "source": [
    "***\n",
    "[Fundamental Factors](Introduction.ipynb) › Lesson 2: Define a Base Universe\n",
    "***"
   ]
  },
  {
   "attachments": {},
   "cell_type": "markdown",
   "metadata": {},
   "source": [
    "# Define a Base Universe\n",
    "\n",
    "Before researching specific factors, we will define a base universe. We don't want to include certain securities such as ETFs and ADRS in any of our subsequent analysis, and by defining a base universe in a separate file, we can import and use the definition in our notebooks without having to re-define the universe rules in each notebook. \n",
    "\n",
    "The base universe will still be quite broad, for two reasons. First, we can always add more rules to the base rules in any given notebook to narrow the universe. Second, using a broad universe will help us see how factors behave across the US equities market, even if we subsequently wish to narrow the universe for trading or further analysis.   "
   ]
  },
  {
   "cell_type": "markdown",
   "metadata": {
    "tags": []
   },
   "source": [
    "## Explore Sharadar Categories\n",
    "\n",
    "Different types of securities are categorized in the `sharadar_Category` field of the securities master database. Let's query all Sharadar records in the securities master database and group by `sharadar_Category` to see a breakdown of security types. (You can also obtain this information by browsing the sharadar-1d bundle in the Data Browser and looking at the Universe tab.)"
   ]
  },
  {
   "cell_type": "code",
   "execution_count": 1,
   "metadata": {
    "tags": []
   },
   "outputs": [
    {
     "data": {
      "text/plain": [
       "sharadar_Category\n",
       "ADR                                          2\n",
       "ADR Common Stock                          2118\n",
       "ADR Common Stock Primary Class             141\n",
       "ADR Common Stock Secondary Class           118\n",
       "ADR Common Stock Warrant                   179\n",
       "ADR Preferred                                6\n",
       "ADR Preferred Stock                         96\n",
       "ADR Stock Warrant                            1\n",
       "CEF                                       1067\n",
       "CEF Preferred                               63\n",
       "CEF Warrant                                 41\n",
       "Canadian                                     1\n",
       "Canadian Common Stock                      373\n",
       "Canadian Common Stock Primary Class         12\n",
       "Canadian Common Stock Secondary Class        3\n",
       "Canadian Common Stock Warrant                8\n",
       "Canadian Preferred Stock                     3\n",
       "Canadian Stock Warrant                       3\n",
       "Domestic                                    76\n",
       "Domestic Common Stock                    13861\n",
       "Domestic Common Stock Primary Class       1121\n",
       "Domestic Common Stock Secondary Class     1098\n",
       "Domestic Common Stock Warrant             1455\n",
       "Domestic Preferred                          45\n",
       "Domestic Preferred Stock                  1169\n",
       "Domestic Primary                             1\n",
       "Domestic Stock Warrant                     208\n",
       "Domestic Warrant                            16\n",
       "ETD                                        498\n",
       "ETF                                       4992\n",
       "ETMF                                        18\n",
       "ETN                                        403\n",
       "IDX                                          5\n",
       "UNIT                                        25\n",
       "Name: Symbol, dtype: int64"
      ]
     },
     "execution_count": 1,
     "metadata": {},
     "output_type": "execute_result"
    }
   ],
   "source": [
    "from quantrocket.master import get_securities\n",
    "securities = get_securities(vendors=\"sharadar\", fields=[\"Symbol\", \"sharadar_Category\"])\n",
    "\n",
    "securities.groupby(\"sharadar_Category\").Symbol.count()"
   ]
  },
  {
   "cell_type": "markdown",
   "metadata": {},
   "source": [
    "We will focus on domestic common stocks. Since some companies have multiple share classes, we will exclude \"Domestic Common Stock Secondary Class\". The following Pipeline expression will satisfy these requirements:"
   ]
  },
  {
   "cell_type": "code",
   "execution_count": 2,
   "metadata": {
    "tags": []
   },
   "outputs": [],
   "source": [
    "from zipline.pipeline import master\n",
    "\n",
    "category = master.SecuritiesMaster.sharadar_Category.latest\n",
    "common_stocks = (\n",
    "    # domestic common stocks\n",
    "    category.has_substring(\"Domestic Common\")\n",
    "    # no secondary shares\n",
    "    & ~category.has_substring(\"Secondary\")\n",
    ")"
   ]
  },
  {
   "cell_type": "markdown",
   "metadata": {},
   "source": [
    "Since `sharadar_Category` is a field from the `SecuritiesMaster` Dataset, this filter can be applied as the `initial_universe` argument of our Pipelines in the following notebooks. Applying the filter as `initial_universe` will completely exclude from the pipeline workspace any assets that aren't primary-share common stocks and will provides a speed boost compared to include these rules in the `screen` along with our other rules. For more information on the `initial_universe` parameter and how it relates to `screen`, see the Usage Guide or the Pipeline Tutorial.\n",
    "\n",
    "The additional filters below cannot be used with `initial_universe` and must be applied separately as the `screen` parameter of the Pipeline (or as a mask to other terms)."
   ]
  },
  {
   "cell_type": "markdown",
   "metadata": {},
   "source": [
    "## Liquidity Filter\n",
    "\n",
    "Even though we want our base universe to be broad and include companies of all sizes, it is still important to add a basic liquidity filter. We will limit the universe to stocks that have had at least some trading volume on each trading day of the past month (approximately 21 trading days). Stocks that have zero trading volume are not only untradable but are also more likely to have suspect prices that can cause unexpected results in Alphalens tear sheets and other analyses.  "
   ]
  },
  {
   "cell_type": "code",
   "execution_count": 3,
   "metadata": {
    "tags": []
   },
   "outputs": [],
   "source": [
    "from zipline.pipeline import EquityPricing\n",
    "\n",
    "base_universe = (EquityPricing.volume.latest > 0).all(21)"
   ]
  },
  {
   "cell_type": "markdown",
   "metadata": {},
   "source": [
    "## Penny Stock Filter\n",
    "\n",
    "In addition to the liquidity filter, we will also add a rule to filter out penny stocks by requiring that the closing price must be above $1.00 for 21 consecutive days. Penny stocks often undergo dramatic price jumps and price drops that, if included in the analysis, can bias the results and make it harder to interpret overall factor performance.    "
   ]
  },
  {
   "cell_type": "code",
   "execution_count": 4,
   "metadata": {
    "tags": []
   },
   "outputs": [],
   "source": [
    "base_universe = (EquityPricing.close.latest > 1.00).all(21, mask=base_universe)"
   ]
  },
  {
   "cell_type": "markdown",
   "metadata": {},
   "source": [
    "## Helper file\n",
    "\n",
    "To be able to reuse our universe filters, we put them in a separate file, [universe.py](universe.py). The universes can be imported as follows."
   ]
  },
  {
   "cell_type": "code",
   "execution_count": 5,
   "metadata": {
    "tags": []
   },
   "outputs": [],
   "source": [
    "from codeload.fundamental_factors.universe import CommonStocks, BaseUniverse\n",
    "\n",
    "initial_universe = CommonStocks()\n",
    "base_universe = BaseUniverse()"
   ]
  },
  {
   "cell_type": "markdown",
   "metadata": {},
   "source": [
    "The `CommonStocks()` filter will be used as the `initial_universe` of the Pipeline in the following notebooks, while the `BaseUniverse()` filter will be used as the `screen` parameter of the Pipeline and as a mask to various factors, and will sometimes be combined with additional filtering rules. (As a reminder from other tutorials, `screen` supports more kinds of filters than `initial_universe`, but using `initial_universe` reduces the size of the computational universe and thus provides a speed boost compared to using `screen`.)"
   ]
  },
  {
   "cell_type": "markdown",
   "metadata": {},
   "source": [
    "***\n",
    "\n",
    "## *Next Up*\n",
    "\n",
    "Lesson 3: [Basic Usage](Lesson03-Basic-Usage.ipynb)"
   ]
  }
 ],
 "metadata": {
  "kernelspec": {
   "display_name": "Python 3.11",
   "language": "python",
   "name": "python3"
  },
  "language_info": {
   "codemirror_mode": {
    "name": "ipython",
    "version": 3
   },
   "file_extension": ".py",
   "mimetype": "text/x-python",
   "name": "python",
   "nbconvert_exporter": "python",
   "pygments_lexer": "ipython3",
   "version": "3.11.0"
  }
 },
 "nbformat": 4,
 "nbformat_minor": 4
}
