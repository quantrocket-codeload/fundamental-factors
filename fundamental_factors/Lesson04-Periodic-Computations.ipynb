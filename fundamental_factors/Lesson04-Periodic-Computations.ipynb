{
 "cells": [
  {
   "cell_type": "markdown",
   "metadata": {},
   "source": [
    "<a href=\"https://www.quantrocket.com\"><img alt=\"QuantRocket logo\" src=\"https://www.quantrocket.com/assets/img/notebook-header-logo.png\"></a><br>\n",
    "<a href=\"https://www.quantrocket.com/disclaimer/\">Disclaimer</a>"
   ]
  },
  {
   "attachments": {},
   "cell_type": "markdown",
   "metadata": {},
   "source": [
    "***\n",
    "[Fundamental Factors](Introduction.ipynb) › Lesson 4: Periodic Computations\n",
    "***"
   ]
  },
  {
   "attachments": {},
   "cell_type": "markdown",
   "metadata": {},
   "source": [
    "# Periodic Computations\n",
    "\n",
    "When analyzing price data, it is common to compute changes in prices over time, such as calculating a 52-week high or a 50-day moving average. We call these \"windowed computations\" because they involve looking at a window of data rather than a single price observation. In Pipeline, factors that accept a `window_length` parameter are used to perform windowed computations. For example, `SimpleMovingAverage(inputs=EquityPricing.close, window_length=10)` computes the average of the last 10 days of closing prices.\n",
    "\n",
    "Just as with price data, it is often useful to compute changes in fundamental values over time. For example, you might want to compute 5-year dividend growth or screen for companies who have consistently grown their earnings over a certain number of quarters. Typical window-based Pipeline factors like `SimpleMovingAverage` aren't suitable for fundamental data because fundamental data changes quarterly, not daily. We don't want to compute the average dividend of the last N days but of the last N quarters.\n",
    "\n",
    "Pipeline makes it easy to perform computations on multiple quarters or years of fundamental data. These are referred to as \"periodic computations\" because they use fiscal periods rather than the daily values that are used in typical windowed computations like `SimpleMovingAverage`. There are ready-made factors to compute the average, high, low, percent change, or CAGR of a fundamental metric over time, or to screen for companies with metrics that are consistently above or below a certain value (such as consistently positive earnings or dividends), or to screen for consistently increasing or decreasing metrics (such as consistently increasing revenue).  "
   ]
  },
  {
   "cell_type": "markdown",
   "metadata": {
    "tags": []
   },
   "source": [
    "## Choosing a period_offset\n",
    "\n",
    "Before we look at some of the ready-made periodic factors and filters, let's look at the `period_offset` parameter, which forms the basis of all periodic computations. \n",
    "\n",
    "As we saw in the previous lesson, you must specify a `dimension` when taking a slice of a fundamental dataset:"
   ]
  },
  {
   "cell_type": "code",
   "execution_count": 1,
   "metadata": {
    "tags": []
   },
   "outputs": [],
   "source": [
    "from zipline.pipeline import sharadar\n",
    "\n",
    "# ARQ = As-Reported Quarterly fundamentals\n",
    "fundamentals = sharadar.Fundamentals.slice('ARQ')"
   ]
  },
  {
   "cell_type": "markdown",
   "metadata": {},
   "source": [
    "The `slice()` method also accepts an optional second parameter, `period_offset`. If omitted, as in the above example, `period_offset` defaults to 0, which means that Pipeline will return data for the most recent fiscal period (as of the pipeline simulation date). In contrast, a negative `period_offset` means to return data for a previous fiscal period: -1 means the immediately preceding fiscal period, -2 means two fiscal periods ago, etc. For quarterly and trailing-twelve-month dimensions, previous period means previous quarter, while for annual dimensions, previous period means previous year.\n",
    "\n",
    "To illustrate the use of `period_offset`, let's look at Microsoft's current and previous EPS. First, we take two slices of `Fundamentals`, one representing the latest period and one representing the previous period, and from these slices create factors for the current and previous EPS:"
   ]
  },
  {
   "cell_type": "code",
   "execution_count": 2,
   "metadata": {
    "tags": []
   },
   "outputs": [],
   "source": [
    "from zipline.pipeline import sharadar\n",
    "\n",
    "current_fundamentals = sharadar.Fundamentals.slice('ART', period_offset=0)\n",
    "previous_fundamentals = sharadar.Fundamentals.slice('ART', period_offset=-1)\n",
    "\n",
    "eps = current_fundamentals.EPS.latest\n",
    "previous_eps = previous_fundamentals.EPS.latest"
   ]
  },
  {
   "cell_type": "markdown",
   "metadata": {},
   "source": [
    "Then, we include the factors as pipeline columns and limit the initial universe to MSFT only. We also include a column with the fiscal period end date for reference:"
   ]
  },
  {
   "cell_type": "code",
   "execution_count": 3,
   "metadata": {
    "tags": []
   },
   "outputs": [],
   "source": [
    "from zipline.pipeline import Pipeline\n",
    "from zipline.pipeline.filters import StaticAssets\n",
    "from zipline.research import symbol\n",
    "\n",
    "MSFT = symbol(\"MSFT\")\n",
    "\n",
    "pipeline = Pipeline(\n",
    "    columns={\n",
    "        'fiscal_period_end_date': current_fundamentals.CALENDARDATE.latest,\n",
    "        'eps': eps,\n",
    "        'previous_eps': previous_eps,\n",
    "    },\n",
    "    initial_universe=StaticAssets([MSFT])\n",
    ")\n"
   ]
  },
  {
   "cell_type": "markdown",
   "metadata": {},
   "source": [
    "Finally, we run the pipeline. To see what's going on, we can use `drop_duplicates()` to limit the output to rows where the values changed from the previous row: "
   ]
  },
  {
   "cell_type": "code",
   "execution_count": 4,
   "metadata": {
    "tags": []
   },
   "outputs": [
    {
     "data": {
      "text/html": [
       "<div>\n",
       "<style scoped>\n",
       "    .dataframe tbody tr th:only-of-type {\n",
       "        vertical-align: middle;\n",
       "    }\n",
       "\n",
       "    .dataframe tbody tr th {\n",
       "        vertical-align: top;\n",
       "    }\n",
       "\n",
       "    .dataframe thead th {\n",
       "        text-align: right;\n",
       "    }\n",
       "</style>\n",
       "<table border=\"1\" class=\"dataframe\">\n",
       "  <thead>\n",
       "    <tr style=\"text-align: right;\">\n",
       "      <th></th>\n",
       "      <th></th>\n",
       "      <th>fiscal_period_end_date</th>\n",
       "      <th>eps</th>\n",
       "      <th>previous_eps</th>\n",
       "    </tr>\n",
       "    <tr>\n",
       "      <th>date</th>\n",
       "      <th>asset</th>\n",
       "      <th></th>\n",
       "      <th></th>\n",
       "      <th></th>\n",
       "    </tr>\n",
       "  </thead>\n",
       "  <tbody>\n",
       "    <tr>\n",
       "      <th>2022-01-03</th>\n",
       "      <th>Equity(FIBBG000BPH459 [MSFT])</th>\n",
       "      <td>2021-09-30</td>\n",
       "      <td>9.02</td>\n",
       "      <td>8.12</td>\n",
       "    </tr>\n",
       "    <tr>\n",
       "      <th>2022-01-26</th>\n",
       "      <th>Equity(FIBBG000BPH459 [MSFT])</th>\n",
       "      <td>2021-12-31</td>\n",
       "      <td>9.47</td>\n",
       "      <td>9.02</td>\n",
       "    </tr>\n",
       "    <tr>\n",
       "      <th>2022-04-27</th>\n",
       "      <th>Equity(FIBBG000BPH459 [MSFT])</th>\n",
       "      <td>2022-03-31</td>\n",
       "      <td>9.65</td>\n",
       "      <td>9.47</td>\n",
       "    </tr>\n",
       "    <tr>\n",
       "      <th>2022-07-29</th>\n",
       "      <th>Equity(FIBBG000BPH459 [MSFT])</th>\n",
       "      <td>2022-06-30</td>\n",
       "      <td>9.70</td>\n",
       "      <td>9.65</td>\n",
       "    </tr>\n",
       "    <tr>\n",
       "      <th>2022-10-26</th>\n",
       "      <th>Equity(FIBBG000BPH459 [MSFT])</th>\n",
       "      <td>2022-09-30</td>\n",
       "      <td>9.32</td>\n",
       "      <td>9.70</td>\n",
       "    </tr>\n",
       "  </tbody>\n",
       "</table>\n",
       "</div>"
      ],
      "text/plain": [
       "                                         fiscal_period_end_date  ...  previous_eps\n",
       "date       asset                                                 ...              \n",
       "2022-01-03 Equity(FIBBG000BPH459 [MSFT])             2021-09-30  ...          8.12\n",
       "2022-01-26 Equity(FIBBG000BPH459 [MSFT])             2021-12-31  ...          9.02\n",
       "2022-04-27 Equity(FIBBG000BPH459 [MSFT])             2022-03-31  ...          9.47\n",
       "2022-07-29 Equity(FIBBG000BPH459 [MSFT])             2022-06-30  ...          9.65\n",
       "2022-10-26 Equity(FIBBG000BPH459 [MSFT])             2022-09-30  ...          9.70\n",
       "\n",
       "[5 rows x 3 columns]"
      ]
     },
     "execution_count": 4,
     "metadata": {},
     "output_type": "execute_result"
    }
   ],
   "source": [
    "from zipline.research import run_pipeline\n",
    "\n",
    "results = run_pipeline(pipeline, '2022-01-01', '2022-12-31')\n",
    "results.drop_duplicates()"
   ]
  },
  {
   "cell_type": "markdown",
   "metadata": {},
   "source": [
    "You can see that the `previous_eps` column contains the `eps` column value shifted down from the previous period. \n",
    "\n",
    "Using `period_offset`, we can do things like compare the current and previous EPS to create a new Filter that computes True if EPS increased from the previous period:"
   ]
  },
  {
   "cell_type": "code",
   "execution_count": 5,
   "metadata": {
    "tags": []
   },
   "outputs": [],
   "source": [
    "eps_increased = eps > previous_eps"
   ]
  },
  {
   "cell_type": "markdown",
   "metadata": {},
   "source": [
    "You can go back an arbitrary number of periods with `period_offset`, and you combine the different periods into arbitrarily complex expressions. Under the hood, this is what Pipeline's built-in periodic factors and filters do."
   ]
  },
  {
   "cell_type": "markdown",
   "metadata": {},
   "source": [
    "## Built-In Periodic Factors and Filters\n",
    "\n",
    "The Pipeline API includes a variety of built-in factors and filters for performing periodic computations. These live in the `zipline.pipeline.periodic` module. To see the full list of available factors, click on `periodic` in the following import statement in JupyterLab and press `Ctrl` to see the module docstring:"
   ]
  },
  {
   "cell_type": "code",
   "execution_count": 6,
   "metadata": {
    "tags": []
   },
   "outputs": [],
   "source": [
    "from zipline.pipeline import periodic"
   ]
  },
  {
   "cell_type": "markdown",
   "metadata": {},
   "source": [
    "Let's create some real-world examples."
   ]
  },
  {
   "cell_type": "markdown",
   "metadata": {},
   "source": [
    "### Average Earnings\n",
    "\n",
    "To smooth out variation in quarterly earnings, we can compute the average EBITDA over the last 4 quarters:"
   ]
  },
  {
   "cell_type": "code",
   "execution_count": 7,
   "metadata": {
    "tags": []
   },
   "outputs": [],
   "source": [
    "from zipline.pipeline.periodic import PeriodicAverage\n",
    "\n",
    "fundamentals = sharadar.Fundamentals.slice('ARQ')\n",
    "avg_earnings = PeriodicAverage(fundamentals.EBITDA, window_length=4)"
   ]
  },
  {
   "cell_type": "markdown",
   "metadata": {},
   "source": [
    "Note that the first argument we pass to `PeriodicAverage()` is the column itself (`fundamentals.EBITDA`), not the `latest` factor of the column (`fundamentals.EBITDA.latest`). This is true of all built-in periodic factors and filters."
   ]
  },
  {
   "cell_type": "markdown",
   "metadata": {},
   "source": [
    "### Revenue Growth\n",
    "\n",
    "We can use `PeriodicCAGR()` to compute the compound annual growth rate of revenue over the last 5 years:"
   ]
  },
  {
   "cell_type": "code",
   "execution_count": 8,
   "metadata": {
    "tags": []
   },
   "outputs": [],
   "source": [
    "from zipline.pipeline.periodic import PeriodicCAGR\n",
    "\n",
    "fundamentals = sharadar.Fundamentals.slice('ARY')\n",
    "revenue_growth = PeriodicCAGR(fundamentals.REVENUE, window_length=5)"
   ]
  },
  {
   "cell_type": "markdown",
   "metadata": {},
   "source": [
    "A similar factor is `PeriodicPercentChange()`, which differs only in that it calculates the total percent change over the window length rather than the annual growth rate."
   ]
  },
  {
   "cell_type": "markdown",
   "metadata": {},
   "source": [
    "### Consistent Dividend Payers\n",
    "\n",
    "In this example, we use `AllPeriodAbove()` to screen for companies that have paid dividends in each of the last 8 years:"
   ]
  },
  {
   "cell_type": "code",
   "execution_count": 9,
   "metadata": {
    "tags": []
   },
   "outputs": [],
   "source": [
    "from zipline.pipeline.periodic import AllPeriodsAbove\n",
    "\n",
    "fundamentals = sharadar.Fundamentals.slice('ARY')\n",
    "consistently_pay_dividends = AllPeriodsAbove(fundamentals.DPS, 0, window_length=8)"
   ]
  },
  {
   "cell_type": "markdown",
   "metadata": {},
   "source": [
    "### Never Cut Dividends\n",
    "\n",
    "This example builds on the previous one by using `AllPeriodsIncreasing()` to further limit the screen to companies that have never cut their dividends over the 8-year period. We use `allow_equal=True` to allow for equal or increasing dividends, and we provide the previous screen as a mask to limit the computation to dividend payers:"
   ]
  },
  {
   "cell_type": "code",
   "execution_count": 10,
   "metadata": {
    "tags": []
   },
   "outputs": [],
   "source": [
    "from zipline.pipeline.periodic import AllPeriodsIncreasing\n",
    "\n",
    "have_never_cut_dividends = AllPeriodsIncreasing(fundamentals.DPS, allow_equal=True, window_length=8, mask=consistently_pay_dividends)"
   ]
  },
  {
   "cell_type": "markdown",
   "metadata": {},
   "source": [
    "### EPS versus 4-year High\n",
    "\n",
    "Suppose we'd like to know how the current EPS compares to the 4-year high of EPS. We can use `PeriodicHigh()` to compute the 4-year high (16 quarters using trailing-twelve-month fundamentals), then compare it to EPS to get a ratio. We use `where()` to limit the output to companies with positive EPS:"
   ]
  },
  {
   "cell_type": "code",
   "execution_count": 11,
   "metadata": {
    "tags": []
   },
   "outputs": [],
   "source": [
    "from zipline.pipeline.periodic import PeriodicHigh\n",
    "\n",
    "fundamentals = sharadar.Fundamentals.slice('ART')\n",
    "eps = fundamentals.EPS.latest\n",
    "high_eps = PeriodicHigh(fundamentals.EPS, window_length=16)\n",
    "eps_vs_high = (eps / high_eps).where(eps > 0)"
   ]
  },
  {
   "cell_type": "markdown",
   "metadata": {},
   "source": [
    "### Periodic Computations as of Earlier Periods\n",
    "\n",
    "Let's look at a variation of the previous example. Suppose we want to find companies whose current EPS is higher than any of the previous 16 quarters. To do this, we need to compute the 16-quarter high of EPS *as of the previous quarter*, then see if the current EPS is higher than that. We can calculate the highest EPS as of the previous quarter by using `period_offset` to pass the previous quarter's EPS to `PeriodicHigh()`:"
   ]
  },
  {
   "cell_type": "code",
   "execution_count": 12,
   "metadata": {
    "tags": []
   },
   "outputs": [],
   "source": [
    "\n",
    "current_fundamentals = sharadar.Fundamentals.slice('ART', period_offset=0)\n",
    "previous_fundamentals = sharadar.Fundamentals.slice('ART', period_offset=-1)\n",
    "\n",
    "eps = current_fundamentals.EPS.latest\n",
    "previous_high_eps = PeriodicHigh(previous_fundamentals.EPS, window_length=16)\n",
    "is_new_high_eps = eps > previous_high_eps"
   ]
  },
  {
   "cell_type": "markdown",
   "metadata": {},
   "source": [
    "### Performing Periodic Computations with Derived Factors\n",
    "\n",
    "So far, we have passed fundamental columns (such as `REVENUE` or `EPS`) directly to the built-in periodic factors. What if we want to perform periodic computations using derived factors, such as operating margin, which as we saw in a previous notebook can be derived as follows:"
   ]
  },
  {
   "cell_type": "code",
   "execution_count": 13,
   "metadata": {
    "tags": []
   },
   "outputs": [],
   "source": [
    "operating_margin = fundamentals.OPINC.latest / fundamentals.REVENUE.latest "
   ]
  },
  {
   "cell_type": "markdown",
   "metadata": {},
   "source": [
    "To use a derived factor with any of the built-in periodic factors or filters, we must create a function that returns the derived factor, then pass the function to the periodic factor or filter. \n",
    "\n",
    "The function we create must accept two parameters: `period_offset` and `mask`. The function should use the `period_offset` parameter to derive the factor corresponding to that `period_offset`. The function should use the `mask` parameter (if provided) to mask the derived factor it returns. Here is a function that computes operating margin:"
   ]
  },
  {
   "cell_type": "code",
   "execution_count": 14,
   "metadata": {
    "tags": []
   },
   "outputs": [],
   "source": [
    "def OPMARGIN(period_offset=0, mask=None):\n",
    "    fundamentals = sharadar.Fundamentals.slice(\"ART\", period_offset)\n",
    "    operating_margin = fundamentals.OPINC.latest / fundamentals.REVENUE.latest\n",
    "    if mask is not None:\n",
    "        operating_margin = operating_margin.where(mask)\n",
    "    return operating_margin"
   ]
  },
  {
   "cell_type": "markdown",
   "metadata": {},
   "source": [
    "We can now pass the `OPMARGIN` function to any of the built-in periodic factors and filters, just as we would pass a data column. Here, we compute the lowest and highest operating margin over the last 4 quarters:  "
   ]
  },
  {
   "cell_type": "code",
   "execution_count": 15,
   "metadata": {
    "tags": []
   },
   "outputs": [],
   "source": [
    "from zipline.pipeline.periodic import PeriodicLow, PeriodicHigh\n",
    "\n",
    "high_opmargin = PeriodicHigh(OPMARGIN, window_length=4)\n",
    "low_opmargin = PeriodicLow(OPMARGIN, window_length=4)"
   ]
  },
  {
   "cell_type": "markdown",
   "metadata": {},
   "source": [
    "Make sure to pass the function itself to the periodic factor or filter, not the result of calling the function (`OPMARGIN`, not `OPMARGIN()`).\n",
    "\n",
    "If you were to pass a `mask` to `PeriodicHigh()` or `PeriodicLow()`, that mask would be passed in turn to your `OPMARGIN` function. If you don't pass a `mask` to `PeriodicHigh()` or `PeriodicLow()`, no mask will be passed to your `OPMARGIN` function. Regardless of whether you intend to pass a mask or not, your `OPMARGIN` function must accept a `mask` parameter. "
   ]
  },
  {
   "cell_type": "markdown",
   "metadata": {
    "tags": []
   },
   "source": [
    "***\n",
    "\n",
    "## *Next Up*\n",
    "\n",
    "Lesson 5: [Exploratory Data Analysis](Lesson05-Exploratory-Data-Analysis.ipynb)"
   ]
  }
 ],
 "metadata": {
  "kernelspec": {
   "display_name": "Python 3.11",
   "language": "python",
   "name": "python3"
  },
  "language_info": {
   "codemirror_mode": {
    "name": "ipython",
    "version": 3
   },
   "file_extension": ".py",
   "mimetype": "text/x-python",
   "name": "python",
   "nbconvert_exporter": "python",
   "pygments_lexer": "ipython3",
   "version": "3.11.0"
  }
 },
 "nbformat": 4,
 "nbformat_minor": 4
}
