{
 "cells": [
  {
   "cell_type": "markdown",
   "id": "59f576b3-0f4c-4996-8b69-b23a8aba169b",
   "metadata": {},
   "source": [
    "<a href=\"https://www.quantrocket.com\"><img alt=\"QuantRocket logo\" src=\"https://www.quantrocket.com/assets/img/notebook-header-logo.png\"></a><br>\n",
    "<a href=\"https://www.quantrocket.com/disclaimer/\">Disclaimer</a>"
   ]
  },
  {
   "attachments": {},
   "cell_type": "markdown",
   "id": "d1042155",
   "metadata": {},
   "source": [
    "***\n",
    "[Fundamental Factors](Introduction.ipynb) › Lesson 10: Macro Analysis\n",
    "***"
   ]
  },
  {
   "attachments": {},
   "cell_type": "markdown",
   "id": "288969e1-96a3-4f86-8866-fe7cc9c068f9",
   "metadata": {},
   "source": [
    "# Macro Analysis: The Interest Coverage Ratio and Altman Z-Score\n",
    "\n",
    "When using Pipeline, we are typically concerned with the performance of individual securities. That is, although we may start with a large universe of securities, we typically want to find a subset of the best-performing or worst-performing securities for portfolio allocation. However, sometimes it is desirable to perform macro analysis, a.k.a. market-level analysis. In this kind of analysis, we are not searching for particular securities but are analyzing the market in aggregate. The goal might be to identify market trends over time, spot regime changes, or understand the economy. \n",
    "\n",
    "With macro analysis, we will typically not feed our pipeline output to Zipline or Alphalens but will analyze the data directly. Macro analysis of relatively short windows of data (say, up to a year or two) are relatively straightforward as the amount of data will fit into memory on most workstations. We have already seen examples of such analysis in previous notebooks, as when we examined differences in debt-to-equity ratios across sectors. But what if we want to perform macro analysis of more data than will fit in memory? This notebook will demonstrate a technique that makes this possible by running the analysis in chunks and combining the results. It is similar to the techniques that Zipline, Alphalens, and Moonshot use under-the-hood to allow long-run analyses of large amounts of data.\n",
    "\n",
    "We will look at two financial distress indicators over time: the Altman Z-Score and the interest coverage ratio."
   ]
  },
  {
   "cell_type": "markdown",
   "id": "42c17b24-bbf6-4adf-848b-1d15287627dd",
   "metadata": {},
   "source": [
    "## The Altman Z-Score\n",
    "\n",
    "The Altman Z-Score measures a company's likelihood of going bankrupt within two years. It is calculated as a linear combination of 5 weighted business ratios, with the weights determined by fitting a logistic regression model to a dataset of bankrupt and non-bankrupt companies. The Altman Z-score formula is:\n",
    "\n",
    "$Altman Z Score = 1.2A + 1.4B + 3.3C + 0.6D + 1.0E$\n",
    "\n",
    "Where:\n",
    "\n",
    "- A = working capital / total assets\n",
    "- B = retained earnings / total assets\n",
    "- C = earnings before interest and tax / total assets\n",
    "- D = market value of equity / total liabilities\n",
    "- E = sales / total assets\n",
    "\n",
    "Altman Z-Scores are often interpreted as follows:\n",
    "\n",
    "- Z-Score >= 3: \"Safe\" Zone\n",
    "- 0 < Z-Score < 3: \"Grey\" Zone\n",
    "- Z-Score < 0: \"Distress\" Zone\n",
    "\n",
    "A built-in factor for the Altman Z-Score is available in Pipeline. The Altman Z-Score is designed for manufacturing firms, and the built-in factor does not compute values for the financial and real estate sectors."
   ]
  },
  {
   "cell_type": "code",
   "execution_count": 1,
   "id": "3fa3cb03-6d5e-4362-8740-54339589c06e",
   "metadata": {
    "tags": []
   },
   "outputs": [],
   "source": [
    "from zipline.pipeline import sharadar\n",
    "\n",
    "altman = sharadar.AltmanZScore()"
   ]
  },
  {
   "cell_type": "markdown",
   "id": "9e3b0efb-d2d5-4db6-b1c8-e60bb28b75ec",
   "metadata": {},
   "source": [
    "We'll create a simple filter to identify stocks that are in distress:"
   ]
  },
  {
   "cell_type": "code",
   "execution_count": 2,
   "id": "68056448-1ed8-44b3-a42a-5039b6a34a81",
   "metadata": {
    "tags": []
   },
   "outputs": [],
   "source": [
    "are_distressed = altman < 0 "
   ]
  },
  {
   "cell_type": "markdown",
   "id": "67c84c7c-3f67-437e-b2e1-6edd85046063",
   "metadata": {},
   "source": [
    "## Interest Coverage Ratio\n",
    "\n",
    "The interest coverage ratio (ICR) is a measure of a company's ability to pay its interest expenses. It is calculated by dividing a company's earnings before interest and taxes (EBIT) by its interest expenses for the same period. An interest coverage ratio of 1 or lower indicates that a company is not generating sufficient revenues to satisfy interest expenses. Such companies are sometimes referred to as \"zombies\" because they are not financially viable but continue to operate, often through borrowing. Generally, investors prefer companies with interest coverage ratios of at least 2.\n",
    "\n",
    "A built-in factor for interest coverage ratio is available in Pipeline."
   ]
  },
  {
   "cell_type": "code",
   "execution_count": 3,
   "id": "8eb265b2-6043-4bc0-bf75-490540898f1c",
   "metadata": {
    "tags": []
   },
   "outputs": [],
   "source": [
    "icr = sharadar.InterestCoverageRatio()"
   ]
  },
  {
   "cell_type": "markdown",
   "id": "aae9ac0b-0827-42cf-9989-6a705695eafa",
   "metadata": {},
   "source": [
    "We'll define zombies as companies that have an interest coverage ratio below 1 and that have a debt-to-equity ratio above the median. Requiring an above-median debt-to-equity ratio is intended to limit the zombie classification to companies with enough debt to make the low ICR a burden."
   ]
  },
  {
   "cell_type": "code",
   "execution_count": 4,
   "id": "817dc1c2-8034-4cee-b6de-ef0779c7735a",
   "metadata": {
    "tags": []
   },
   "outputs": [],
   "source": [
    "de = sharadar.Fundamentals.slice(\"ART\").DE.latest\n",
    "\n",
    "are_zombies = (icr < 1) & (de > de.median())"
   ]
  },
  {
   "cell_type": "markdown",
   "id": "722d1488-4153-4b04-98a6-f95dea911b5c",
   "metadata": {},
   "source": [
    "## When Segmented Processing Makes Sense\n",
    "\n",
    "We would like to see how these two financial distress indicators have behaved over time. To do so, we will plot the median ICR and the median Altman Z-Score over the entire available history of the Sharadar data (1998 to the present), and we will also plot the number of zombie firms and distressed firms over time.\n",
    "\n",
    "Unless our machine has an unusually large amount of memory, we can't simply run a 20+ year pipeline and process and plot the results. As Pipeline output includes a row for each security in the universe on each date of the analysis, such a DataFrame would be very large. Even if it could fit in memory, analyzing DataFrames invariably involves performing operations that create new DataFrames, multiplying the memory usage. \n",
    "\n",
    "The approach we will use instead is to (1) run the pipeline in 1-year segments, (2) process the pipeline output into aggregate-level summary results, and (3) combine and plot the summary results. This kind of segmented processing is the same approach used by Alphalens when we pass `segment=\"Y\"`.\n",
    "\n",
    "Segmented processing is a good fit for long-range macro analysis due to the fact that such analysis is focused on market-level insights rather than specific securities. This means we can take a chunk of security-level pipeline output, process it into market-level summary data, and retain only the summary data in memory while discarding the more voluminous security-level data. In contrast, if you need security-level data as the end result of your analysis, segmented processing won't help because you can't throw anything away.  "
   ]
  },
  {
   "cell_type": "markdown",
   "id": "997e7431-96b0-47d3-9e41-f8ca8a5b62ab",
   "metadata": {},
   "source": [
    "## Testing the Pipeline\n",
    "\n",
    "The best way to implement segmented processing is to validate your pipeline using a year of data, then generalize from there.\n",
    "\n",
    "To start with, we create a pipeline of our financial distress factors and filters, limiting the output to records where we could calculate at least one of the indicators. Then, we run the pipeline on a year of data:"
   ]
  },
  {
   "cell_type": "code",
   "execution_count": 5,
   "id": "1b397fa0-2999-48ea-b683-479c5cdb362a",
   "metadata": {
    "tags": []
   },
   "outputs": [],
   "source": [
    "from codeload.fundamental_factors.universe import CommonStocks\n",
    "from zipline.pipeline import Pipeline\n",
    "from zipline.research import run_pipeline\n",
    "\n",
    "pipeline = Pipeline(\n",
    "    columns={\n",
    "        'icr': icr,\n",
    "        'are_zombies': are_zombies,\n",
    "        'altman': altman,\n",
    "        'are_distressed': are_distressed,\n",
    "    },\n",
    "    initial_universe=CommonStocks(),\n",
    "    screen=icr.notnull() | altman.notnull()\n",
    ")\n",
    "\n",
    "results = run_pipeline(pipeline, start_date=\"2022-01-01\", end_date=\"2022-12-30\")"
   ]
  },
  {
   "cell_type": "markdown",
   "id": "728c1013-c8ad-4d14-853a-29a5826871dd",
   "metadata": {},
   "source": [
    "Pipeline results are stacked, with one row per date and asset and one column per factor or filter:"
   ]
  },
  {
   "cell_type": "code",
   "execution_count": 6,
   "id": "9c5c49e5-a524-496a-97ba-d3f162c013c9",
   "metadata": {
    "tags": []
   },
   "outputs": [
    {
     "data": {
      "text/html": [
       "<div>\n",
       "<style scoped>\n",
       "    .dataframe tbody tr th:only-of-type {\n",
       "        vertical-align: middle;\n",
       "    }\n",
       "\n",
       "    .dataframe tbody tr th {\n",
       "        vertical-align: top;\n",
       "    }\n",
       "\n",
       "    .dataframe thead th {\n",
       "        text-align: right;\n",
       "    }\n",
       "</style>\n",
       "<table border=\"1\" class=\"dataframe\">\n",
       "  <thead>\n",
       "    <tr style=\"text-align: right;\">\n",
       "      <th></th>\n",
       "      <th></th>\n",
       "      <th>icr</th>\n",
       "      <th>are_zombies</th>\n",
       "      <th>altman</th>\n",
       "      <th>are_distressed</th>\n",
       "    </tr>\n",
       "    <tr>\n",
       "      <th>date</th>\n",
       "      <th>asset</th>\n",
       "      <th></th>\n",
       "      <th></th>\n",
       "      <th></th>\n",
       "      <th></th>\n",
       "    </tr>\n",
       "  </thead>\n",
       "  <tbody>\n",
       "    <tr>\n",
       "      <th rowspan=\"5\" valign=\"top\">2022-01-03 00:00:00+00:00</th>\n",
       "      <th>Equity(FIBBG000C2V3D6 [A])</th>\n",
       "      <td>17.790123</td>\n",
       "      <td>False</td>\n",
       "      <td>6.475687</td>\n",
       "      <td>False</td>\n",
       "    </tr>\n",
       "    <tr>\n",
       "      <th>Equity(FIBBG00B3T3HD3 [AA])</th>\n",
       "      <td>6.561905</td>\n",
       "      <td>False</td>\n",
       "      <td>1.830476</td>\n",
       "      <td>False</td>\n",
       "    </tr>\n",
       "    <tr>\n",
       "      <th>Equity(FIBBG000V2S3P6 [AACG])</th>\n",
       "      <td>NaN</td>\n",
       "      <td>False</td>\n",
       "      <td>-1.414544</td>\n",
       "      <td>True</td>\n",
       "    </tr>\n",
       "    <tr>\n",
       "      <th>Equity(FIBBG002WN7DT2 [AADI])</th>\n",
       "      <td>NaN</td>\n",
       "      <td>False</td>\n",
       "      <td>13.282591</td>\n",
       "      <td>False</td>\n",
       "    </tr>\n",
       "    <tr>\n",
       "      <th>Equity(FIBBG005P7Q881 [AAL])</th>\n",
       "      <td>NaN</td>\n",
       "      <td>False</td>\n",
       "      <td>0.187913</td>\n",
       "      <td>False</td>\n",
       "    </tr>\n",
       "  </tbody>\n",
       "</table>\n",
       "</div>"
      ],
      "text/plain": [
       "                                                               icr  \\\n",
       "date                      asset                                      \n",
       "2022-01-03 00:00:00+00:00 Equity(FIBBG000C2V3D6 [A])     17.790123   \n",
       "                          Equity(FIBBG00B3T3HD3 [AA])     6.561905   \n",
       "                          Equity(FIBBG000V2S3P6 [AACG])        NaN   \n",
       "                          Equity(FIBBG002WN7DT2 [AADI])        NaN   \n",
       "                          Equity(FIBBG005P7Q881 [AAL])         NaN   \n",
       "\n",
       "                                                         are_zombies  \\\n",
       "date                      asset                                        \n",
       "2022-01-03 00:00:00+00:00 Equity(FIBBG000C2V3D6 [A])           False   \n",
       "                          Equity(FIBBG00B3T3HD3 [AA])          False   \n",
       "                          Equity(FIBBG000V2S3P6 [AACG])        False   \n",
       "                          Equity(FIBBG002WN7DT2 [AADI])        False   \n",
       "                          Equity(FIBBG005P7Q881 [AAL])         False   \n",
       "\n",
       "                                                            altman  \\\n",
       "date                      asset                                      \n",
       "2022-01-03 00:00:00+00:00 Equity(FIBBG000C2V3D6 [A])      6.475687   \n",
       "                          Equity(FIBBG00B3T3HD3 [AA])     1.830476   \n",
       "                          Equity(FIBBG000V2S3P6 [AACG])  -1.414544   \n",
       "                          Equity(FIBBG002WN7DT2 [AADI])  13.282591   \n",
       "                          Equity(FIBBG005P7Q881 [AAL])    0.187913   \n",
       "\n",
       "                                                         are_distressed  \n",
       "date                      asset                                          \n",
       "2022-01-03 00:00:00+00:00 Equity(FIBBG000C2V3D6 [A])              False  \n",
       "                          Equity(FIBBG00B3T3HD3 [AA])             False  \n",
       "                          Equity(FIBBG000V2S3P6 [AACG])            True  \n",
       "                          Equity(FIBBG002WN7DT2 [AADI])           False  \n",
       "                          Equity(FIBBG005P7Q881 [AAL])            False  "
      ]
     },
     "execution_count": 6,
     "metadata": {},
     "output_type": "execute_result"
    }
   ],
   "source": [
    "results.head()"
   ]
  },
  {
   "cell_type": "markdown",
   "id": "f051d5f0-a704-43b1-9ff7-05f36568feb5",
   "metadata": {},
   "source": [
    "To facilitate market-level calculations on a particular column over time, we can unstack the assets so that there is one row per date and one column per asset: "
   ]
  },
  {
   "cell_type": "code",
   "execution_count": 7,
   "id": "13223edf-dc23-4341-abb8-621dff97da7a",
   "metadata": {
    "tags": []
   },
   "outputs": [
    {
     "data": {
      "text/html": [
       "<div>\n",
       "<style scoped>\n",
       "    .dataframe tbody tr th:only-of-type {\n",
       "        vertical-align: middle;\n",
       "    }\n",
       "\n",
       "    .dataframe tbody tr th {\n",
       "        vertical-align: top;\n",
       "    }\n",
       "\n",
       "    .dataframe thead th {\n",
       "        text-align: right;\n",
       "    }\n",
       "</style>\n",
       "<table border=\"1\" class=\"dataframe\">\n",
       "  <thead>\n",
       "    <tr style=\"text-align: right;\">\n",
       "      <th>asset</th>\n",
       "      <th>Equity(FIBBG000C2V3D6 [A])</th>\n",
       "      <th>Equity(FIBBG00B3T3HD3 [AA])</th>\n",
       "      <th>Equity(FIBBG000V2S3P6 [AACG])</th>\n",
       "      <th>Equity(FIBBG002WN7DT2 [AADI])</th>\n",
       "      <th>Equity(FIBBG005P7Q881 [AAL])</th>\n",
       "    </tr>\n",
       "    <tr>\n",
       "      <th>date</th>\n",
       "      <th></th>\n",
       "      <th></th>\n",
       "      <th></th>\n",
       "      <th></th>\n",
       "      <th></th>\n",
       "    </tr>\n",
       "  </thead>\n",
       "  <tbody>\n",
       "    <tr>\n",
       "      <th>2022-01-03 00:00:00+00:00</th>\n",
       "      <td>6.475687</td>\n",
       "      <td>1.830476</td>\n",
       "      <td>-1.414544</td>\n",
       "      <td>13.282591</td>\n",
       "      <td>0.187913</td>\n",
       "    </tr>\n",
       "    <tr>\n",
       "      <th>2022-01-04 00:00:00+00:00</th>\n",
       "      <td>6.475687</td>\n",
       "      <td>1.830476</td>\n",
       "      <td>-1.414544</td>\n",
       "      <td>13.282591</td>\n",
       "      <td>0.187913</td>\n",
       "    </tr>\n",
       "    <tr>\n",
       "      <th>2022-01-05 00:00:00+00:00</th>\n",
       "      <td>6.475687</td>\n",
       "      <td>1.830476</td>\n",
       "      <td>-1.414544</td>\n",
       "      <td>13.282591</td>\n",
       "      <td>0.187913</td>\n",
       "    </tr>\n",
       "    <tr>\n",
       "      <th>2022-01-06 00:00:00+00:00</th>\n",
       "      <td>6.475687</td>\n",
       "      <td>1.830476</td>\n",
       "      <td>-1.414544</td>\n",
       "      <td>13.282591</td>\n",
       "      <td>0.187913</td>\n",
       "    </tr>\n",
       "    <tr>\n",
       "      <th>2022-01-07 00:00:00+00:00</th>\n",
       "      <td>6.475687</td>\n",
       "      <td>1.830476</td>\n",
       "      <td>-1.414544</td>\n",
       "      <td>13.282591</td>\n",
       "      <td>0.187913</td>\n",
       "    </tr>\n",
       "  </tbody>\n",
       "</table>\n",
       "</div>"
      ],
      "text/plain": [
       "asset                      Equity(FIBBG000C2V3D6 [A])  \\\n",
       "date                                                    \n",
       "2022-01-03 00:00:00+00:00                    6.475687   \n",
       "2022-01-04 00:00:00+00:00                    6.475687   \n",
       "2022-01-05 00:00:00+00:00                    6.475687   \n",
       "2022-01-06 00:00:00+00:00                    6.475687   \n",
       "2022-01-07 00:00:00+00:00                    6.475687   \n",
       "\n",
       "asset                      Equity(FIBBG00B3T3HD3 [AA])  \\\n",
       "date                                                     \n",
       "2022-01-03 00:00:00+00:00                     1.830476   \n",
       "2022-01-04 00:00:00+00:00                     1.830476   \n",
       "2022-01-05 00:00:00+00:00                     1.830476   \n",
       "2022-01-06 00:00:00+00:00                     1.830476   \n",
       "2022-01-07 00:00:00+00:00                     1.830476   \n",
       "\n",
       "asset                      Equity(FIBBG000V2S3P6 [AACG])  \\\n",
       "date                                                       \n",
       "2022-01-03 00:00:00+00:00                      -1.414544   \n",
       "2022-01-04 00:00:00+00:00                      -1.414544   \n",
       "2022-01-05 00:00:00+00:00                      -1.414544   \n",
       "2022-01-06 00:00:00+00:00                      -1.414544   \n",
       "2022-01-07 00:00:00+00:00                      -1.414544   \n",
       "\n",
       "asset                      Equity(FIBBG002WN7DT2 [AADI])  \\\n",
       "date                                                       \n",
       "2022-01-03 00:00:00+00:00                      13.282591   \n",
       "2022-01-04 00:00:00+00:00                      13.282591   \n",
       "2022-01-05 00:00:00+00:00                      13.282591   \n",
       "2022-01-06 00:00:00+00:00                      13.282591   \n",
       "2022-01-07 00:00:00+00:00                      13.282591   \n",
       "\n",
       "asset                      Equity(FIBBG005P7Q881 [AAL])  \n",
       "date                                                     \n",
       "2022-01-03 00:00:00+00:00                      0.187913  \n",
       "2022-01-04 00:00:00+00:00                      0.187913  \n",
       "2022-01-05 00:00:00+00:00                      0.187913  \n",
       "2022-01-06 00:00:00+00:00                      0.187913  \n",
       "2022-01-07 00:00:00+00:00                      0.187913  "
      ]
     },
     "execution_count": 7,
     "metadata": {},
     "output_type": "execute_result"
    }
   ],
   "source": [
    "altman = results.altman.unstack()\n",
    "altman.iloc[:5, :5]"
   ]
  },
  {
   "cell_type": "markdown",
   "id": "c92ab997-70e6-49bc-855b-1a504cd7e24e",
   "metadata": {},
   "source": [
    "We can then perform rowwise calculations, like taking the median:"
   ]
  },
  {
   "cell_type": "code",
   "execution_count": 8,
   "id": "59284368-0524-4107-89ad-8f65e6fffb1a",
   "metadata": {
    "tags": []
   },
   "outputs": [
    {
     "data": {
      "text/plain": [
       "date\n",
       "2022-01-03 00:00:00+00:00    3.067250\n",
       "2022-01-04 00:00:00+00:00    3.066697\n",
       "2022-01-05 00:00:00+00:00    3.067802\n",
       "2022-01-06 00:00:00+00:00    3.067802\n",
       "2022-01-07 00:00:00+00:00    3.066697\n",
       "Freq: C, dtype: float64"
      ]
     },
     "execution_count": 8,
     "metadata": {},
     "output_type": "execute_result"
    }
   ],
   "source": [
    "altman.median(axis=1).head()"
   ]
  },
  {
   "cell_type": "markdown",
   "id": "3690633c-29d8-4d8f-8739-584d9416c039",
   "metadata": {},
   "source": [
    "Knowing that we will need to process multiple chunks of pipeline output (one chunk per year), we can put our processing steps in a function for easier re-use. In the following function, we create four Series: median ICR, median Altman Z-Score, the percentage of companies that are zombies, and the percentage of companies that are distressed. We then use `pd.concat()` to combine the four Series into a DataFrame with four columns:"
   ]
  },
  {
   "cell_type": "code",
   "execution_count": 9,
   "id": "12032cd9-9bd1-49d0-8e62-df9f02f5486a",
   "metadata": {
    "tags": []
   },
   "outputs": [],
   "source": [
    "import pandas as pd\n",
    "\n",
    "def summarize(results):\n",
    "    \"\"\"\n",
    "    Summarize pipeline output into market-level metrics.\n",
    "    \"\"\"\n",
    "    \n",
    "    # Calculate median ICR, and pct of companies that are zombies\n",
    "    icr = results.icr.unstack()\n",
    "    median_icr = icr.median(axis=1)\n",
    "    are_zombies = results.are_zombies.unstack()\n",
    "    num_zombies = are_zombies.sum(axis=1)\n",
    "    pct_zombies = num_zombies / icr.count(axis=1)\n",
    "    \n",
    "    # Calculate median Altman, and pct of companies that are distressed\n",
    "    altman = results.altman.unstack()\n",
    "    median_altman = altman.median(axis=1)\n",
    "    are_distressed = results.are_distressed.unstack()\n",
    "    num_distressed = are_distressed.sum(axis=1)\n",
    "    pct_distressed = num_distressed / altman.count(axis=1)\n",
    "\n",
    "    # Concat series of metrics into DataFrame\n",
    "    summary = pd.concat(\n",
    "        [\n",
    "            median_icr,\n",
    "            median_altman,\n",
    "            pct_zombies,\n",
    "            pct_distressed,\n",
    "        ], \n",
    "        axis=1, keys=[\"median_icr\", \"median_altman\", \"pct_zombies\", \"pct_distressed\"])\n",
    "    \n",
    "    return summary"
   ]
  },
  {
   "cell_type": "markdown",
   "id": "1b3015e2-e4d6-4079-a126-617b19107b80",
   "metadata": {},
   "source": [
    "The market-level output looks like this:"
   ]
  },
  {
   "cell_type": "code",
   "execution_count": 10,
   "id": "6a7f646e-a8f2-4c93-8aea-383d7351bbca",
   "metadata": {
    "tags": []
   },
   "outputs": [
    {
     "data": {
      "text/html": [
       "<div>\n",
       "<style scoped>\n",
       "    .dataframe tbody tr th:only-of-type {\n",
       "        vertical-align: middle;\n",
       "    }\n",
       "\n",
       "    .dataframe tbody tr th {\n",
       "        vertical-align: top;\n",
       "    }\n",
       "\n",
       "    .dataframe thead th {\n",
       "        text-align: right;\n",
       "    }\n",
       "</style>\n",
       "<table border=\"1\" class=\"dataframe\">\n",
       "  <thead>\n",
       "    <tr style=\"text-align: right;\">\n",
       "      <th></th>\n",
       "      <th>median_icr</th>\n",
       "      <th>median_altman</th>\n",
       "      <th>pct_zombies</th>\n",
       "      <th>pct_distressed</th>\n",
       "    </tr>\n",
       "    <tr>\n",
       "      <th>date</th>\n",
       "      <th></th>\n",
       "      <th></th>\n",
       "      <th></th>\n",
       "      <th></th>\n",
       "    </tr>\n",
       "  </thead>\n",
       "  <tbody>\n",
       "    <tr>\n",
       "      <th>2022-01-03 00:00:00+00:00</th>\n",
       "      <td>6.553343</td>\n",
       "      <td>3.067250</td>\n",
       "      <td>0.061116</td>\n",
       "      <td>0.147552</td>\n",
       "    </tr>\n",
       "    <tr>\n",
       "      <th>2022-01-04 00:00:00+00:00</th>\n",
       "      <td>6.549285</td>\n",
       "      <td>3.066697</td>\n",
       "      <td>0.061141</td>\n",
       "      <td>0.147587</td>\n",
       "    </tr>\n",
       "    <tr>\n",
       "      <th>2022-01-05 00:00:00+00:00</th>\n",
       "      <td>6.549285</td>\n",
       "      <td>3.067802</td>\n",
       "      <td>0.061141</td>\n",
       "      <td>0.147587</td>\n",
       "    </tr>\n",
       "    <tr>\n",
       "      <th>2022-01-06 00:00:00+00:00</th>\n",
       "      <td>6.549285</td>\n",
       "      <td>3.067802</td>\n",
       "      <td>0.061551</td>\n",
       "      <td>0.147587</td>\n",
       "    </tr>\n",
       "    <tr>\n",
       "      <th>2022-01-07 00:00:00+00:00</th>\n",
       "      <td>6.557402</td>\n",
       "      <td>3.066697</td>\n",
       "      <td>0.061602</td>\n",
       "      <td>0.147587</td>\n",
       "    </tr>\n",
       "  </tbody>\n",
       "</table>\n",
       "</div>"
      ],
      "text/plain": [
       "                           median_icr  median_altman  pct_zombies  \\\n",
       "date                                                                \n",
       "2022-01-03 00:00:00+00:00    6.553343       3.067250     0.061116   \n",
       "2022-01-04 00:00:00+00:00    6.549285       3.066697     0.061141   \n",
       "2022-01-05 00:00:00+00:00    6.549285       3.067802     0.061141   \n",
       "2022-01-06 00:00:00+00:00    6.549285       3.067802     0.061551   \n",
       "2022-01-07 00:00:00+00:00    6.557402       3.066697     0.061602   \n",
       "\n",
       "                           pct_distressed  \n",
       "date                                       \n",
       "2022-01-03 00:00:00+00:00        0.147552  \n",
       "2022-01-04 00:00:00+00:00        0.147587  \n",
       "2022-01-05 00:00:00+00:00        0.147587  \n",
       "2022-01-06 00:00:00+00:00        0.147587  \n",
       "2022-01-07 00:00:00+00:00        0.147587  "
      ]
     },
     "execution_count": 10,
     "metadata": {},
     "output_type": "execute_result"
    }
   ],
   "source": [
    "summarize(results).head()"
   ]
  },
  {
   "cell_type": "markdown",
   "id": "e08ee1c6-3b14-4e82-aa53-278be637a306",
   "metadata": {},
   "source": [
    "## Running the Full Analysis\n",
    "\n",
    "We're now ready to run the full analysis. First, we use QuantRocket's `segmented_date_range()` function to split our desired date range into 1-year segments. This function returns a list of `(start_date, end_date)` tuples defining each segment."
   ]
  },
  {
   "cell_type": "code",
   "execution_count": 11,
   "id": "75225d7b-0a9d-48b4-8d22-e75ef239bf3c",
   "metadata": {
    "tags": []
   },
   "outputs": [],
   "source": [
    "from quantrocket.utils import segmented_date_range\n",
    "date_ranges = segmented_date_range(\"1998-02-01\", \"2022-12-30\", segment=\"Y\")"
   ]
  },
  {
   "cell_type": "markdown",
   "id": "fc27790a-9d88-423c-9b0c-3ddb2ae6c21f",
   "metadata": {},
   "source": [
    "We loop through the date segments, running the pipeline for each start and end date, passing the pipeline output to the `summarize()` function we defined above, and saving the resulting summary DataFrames to a list. At the end of the loop, we use `pd.concat()` to combine the summary DataFrames into one long DataFrame covering the entire date range. IPython's `clear_output()` function allows us to print our up-to-date progress without cluttering the display. "
   ]
  },
  {
   "cell_type": "code",
   "execution_count": 12,
   "id": "76eec9ad-9170-4704-83b0-611f4ba0eb58",
   "metadata": {
    "tags": []
   },
   "outputs": [],
   "source": [
    "from IPython.display import clear_output \n",
    "\n",
    "all_summaries = []\n",
    "for start_date, end_date in date_ranges:\n",
    "\n",
    "    print(\"running\", start_date, \"to\", end_date)\n",
    "    clear_output(wait=True)\n",
    "    \n",
    "    results = run_pipeline(pipeline, start_date=start_date, end_date=end_date)\n",
    "    \n",
    "    summary = summarize(results)\n",
    "    all_summaries.append(summary)\n",
    "\n",
    "summary = pd.concat(all_summaries) \n",
    "clear_output()"
   ]
  },
  {
   "cell_type": "markdown",
   "id": "c385cb19-62be-4bc4-8952-46936b3dfe6c",
   "metadata": {},
   "source": [
    "We'll plot the median ICR and median Altman Z-Score together:"
   ]
  },
  {
   "cell_type": "code",
   "execution_count": 13,
   "id": "67793b4b-2f3b-4d17-8160-85128830e4fa",
   "metadata": {
    "tags": []
   },
   "outputs": [
    {
     "data": {
      "image/png": "[encoded data removed]",
      "text/plain": [
       "<Figure size 1152x432 with 1 Axes>"
      ]
     },
     "metadata": {},
     "output_type": "display_data"
    }
   ],
   "source": [
    "summary[['median_icr', 'median_altman']].plot(title=\"Median Interest Coverage Ratio and Altman Z-Score\");"
   ]
  },
  {
   "cell_type": "markdown",
   "id": "730f0c0d-94bc-4189-b446-1f258dac7309",
   "metadata": {},
   "source": [
    "And we'll plot the percentage of companies that are zombies and the percentage that are distressed in another chart:"
   ]
  },
  {
   "cell_type": "code",
   "execution_count": 14,
   "id": "3c8d517f-45c4-4335-bf02-dd3734a9de01",
   "metadata": {
    "tags": []
   },
   "outputs": [
    {
     "data": {
      "image/png": "[encoded data removed]",
      "text/plain": [
       "<Figure size 1152x432 with 1 Axes>"
      ]
     },
     "metadata": {},
     "output_type": "display_data"
    }
   ],
   "source": [
    "summary[['pct_zombies', 'pct_distressed']].plot(title=\"Percentage of zombie firms and distressed firms\");"
   ]
  },
  {
   "cell_type": "markdown",
   "id": "195191fe-f1ba-4b9a-b238-2f7bbacbd075",
   "metadata": {},
   "source": [
    "***\n",
    "\n",
    "## *Next Up*\n",
    "\n",
    "Lesson 11: [Alphalens: Altman Z-Score](Lesson11-Altman-Z-Score.ipynb)"
   ]
  }
 ],
 "metadata": {
  "kernelspec": {
   "display_name": "Python 3.9",
   "language": "python",
   "name": "python3"
  },
  "language_info": {
   "codemirror_mode": {
    "name": "ipython",
    "version": 3
   },
   "file_extension": ".py",
   "mimetype": "text/x-python",
   "name": "python",
   "nbconvert_exporter": "python",
   "pygments_lexer": "ipython3",
   "version": "3.9.7"
  }
 },
 "nbformat": 4,
 "nbformat_minor": 5
}
