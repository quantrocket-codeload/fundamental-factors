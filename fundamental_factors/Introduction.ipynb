{
 "cells": [
  {
   "cell_type": "markdown",
   "metadata": {},
   "source": [
    "<a href=\"https://www.quantrocket.com\"><img alt=\"QuantRocket logo\" src=\"https://www.quantrocket.com/assets/img/notebook-header-logo.png\"></a><br>\n",
    "<a href=\"https://www.quantrocket.com/disclaimer/\">Disclaimer</a>"
   ]
  },
  {
   "cell_type": "markdown",
   "metadata": {
    "tags": []
   },
   "source": [
    "# Fundamental Factors\n",
    "\n",
    "This tutorial demonstrates how to research fundamental factors using the Pipeline API, Alphalens, and Sharadar US price and fundamental data.\n",
    "\n",
    "Lessons are organized around specific fundamental factors, but the techniques demonstrated can be applied to any factors.  "
   ]
  },
  {
   "cell_type": "markdown",
   "metadata": {},
   "source": [
    "## Prerequisites\n",
    "\n",
    "The Pipeline Tutorial is recommended as a prerequisite to this tutorial:"
   ]
  },
  {
   "cell_type": "code",
   "execution_count": null,
   "metadata": {},
   "outputs": [],
   "source": [
    "from quantrocket.codeload import clone\n",
    "clone('pipeline-tutorial')"
   ]
  },
  {
   "cell_type": "markdown",
   "metadata": {},
   "source": [
    "## Data Permissions\n",
    "\n",
    "To complete the tutorial, you must have a Sharadar subscription that includes permission for the following datasets:\n",
    "\n",
    "* US Company Fundamentals\n",
    "* End-of-Day US Stock Prices (Fund Prices not required)"
   ]
  },
  {
   "cell_type": "markdown",
   "metadata": {},
   "source": [
    "## Contents\n",
    "\n",
    "### Introduction\n",
    "\n",
    "* Lesson 1: [Data Collection](Lesson01-Data-Collection.ipynb) - Sharadar price and fundamental data collection steps\n",
    "* Lesson 2: [Define a Base Universe](Lesson02-Base-Universe.ipynb) - learn how to define a base universe to use with multiple pipelines\n",
    "* Lesson 3: [Basic Usage](Lesson03-Basic-Usage.ipynb) - learn how to choose a dimension and define and derive factors from dataset columns\n",
    "* Lesson 4: [Periodic Computations](Lesson04-Periodic-Computations.ipynb) - learn how to create factors that measure the change in fundamental metrics over time\n",
    "\n",
    "\n",
    "### Factor 1: Profitability\n",
    "\n",
    "* Lesson 5: [Exploratory Data Analysis](Lesson05-Exploratory-Data-Analysis.ipynb) - learn how to get a basic overview of a factor's distribution and characteristics\n",
    "* Lesson 6: [Alphalens: Profitability](Lesson06-Profitability.ipynb) - learn how to create and interpret an Alphalens tear sheet, looking at the profitability factor \n",
    "* Lesson 7: [Alphalens: Profitability Growth](Lesson07-Profitability-Growth.ipynb) - an additional Alphalens walkthrough that looks at growth in profitability\n",
    "\n",
    "### Factor 2: Debt-to-Equity Ratio\n",
    "\n",
    "* Lesson 8: [Factor Values vs Factor Ranks](Lesson08-Factor-Values-vs-Factor-Ranks.ipynb) - learn how ranking factors can reduce the effect of outliers and lead to smaller maximum weights\n",
    "* Lesson 9: [Sector Neutralization](Lesson09-Sector-Neutralization.ipynb) - learn techniques that can be used to avoid unintended concentrated bets on sectors\n",
    "\n",
    "### Factor 3: Financial Distress Indicators\n",
    "\n",
    "* Lesson 10: [Macro Analysis: The Interest Coverage Ratio and Altman Z-Score](Lesson10-Macro-Analysis.ipynb) - learn how to perform macro analysis of US stocks, using segmented processing to analyze more data than can fit into memory\n",
    "* Lesson 11: [Alphalens: Altman Z-Score](Lesson11-Altman-Z-Score.ipynb) - learn how and when to define specific bin edges for your factor instead of using equal-sized quantiles\n",
    "* Lesson 12: [Multi-Factor Scores](Lesson12-Multi-Factor-Scores.ipynb) - learn how to combine multiple factors into a single score"
   ]
  }
 ],
 "metadata": {
  "kernelspec": {
   "display_name": "Python 3.11",
   "language": "python",
   "name": "python3"
  },
  "language_info": {
   "codemirror_mode": {
    "name": "ipython",
    "version": 3
   },
   "file_extension": ".py",
   "mimetype": "text/x-python",
   "name": "python",
   "nbconvert_exporter": "python",
   "pygments_lexer": "ipython3",
   "version": "3.11.0"
  }
 },
 "nbformat": 4,
 "nbformat_minor": 4
}
